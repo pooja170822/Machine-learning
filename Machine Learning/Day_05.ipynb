{
 "cells": [
  {
   "cell_type": "code",
   "execution_count": 3,
   "id": "96567600-2e45-481b-85b6-73dad472fa50",
   "metadata": {},
   "outputs": [
    {
     "name": "stdout",
     "output_type": "stream",
     "text": [
      "50.24\n"
     ]
    }
   ],
   "source": [
    "# def function_name(parameters):\n",
    "#     #statements\n",
    "#     return expression\n",
    "\n",
    "def calculate_area(radius):\n",
    "    area = 3.14 * radius**2\n",
    "    return area\n",
    "\n",
    "circle_area = calculate_area(4)\n",
    "print(circle_area)\n",
    "\n"
   ]
  },
  {
   "cell_type": "code",
   "execution_count": 21,
   "id": "aed2a2b0-fd5d-43b3-8b19-b2f8a2825333",
   "metadata": {},
   "outputs": [
    {
     "name": "stdout",
     "output_type": "stream",
     "text": [
      "Hello POOJA\n"
     ]
    }
   ],
   "source": [
    "def greet(name, greetings='Hello'):\n",
    "    message = f\"{greetings} {name.upper()}\"\n",
    "    return message\n",
    "\n",
    "print(greet('pooja'))"
   ]
  },
  {
   "cell_type": "code",
   "execution_count": 31,
   "id": "66420e5c-0d12-4ec9-8be7-48a0c0ea9b9d",
   "metadata": {},
   "outputs": [
    {
     "name": "stdout",
     "output_type": "stream",
     "text": [
      "Vickey Sharma\n"
     ]
    }
   ],
   "source": [
    "def student(firstname, lastname):\n",
    "    print(firstname, lastname)\n",
    "\n",
    "student(firstname = \"Vickey\", lastname = \"Sharma\")\n"
   ]
  },
  {
   "cell_type": "code",
   "execution_count": 46,
   "id": "bf26ba17-0a43-4515-b461-91340ac9dfa9",
   "metadata": {},
   "outputs": [
    {
     "name": "stdout",
     "output_type": "stream",
     "text": [
      "Positional argument= (1, 2, 8)\n",
      "Keyword arguments= {'name': 'ram', 'age': 65}\n"
     ]
    }
   ],
   "source": [
    "def print_values(*args, **kwargs):\n",
    "    print(\"Positional argument=\", args)\n",
    "    print(\"Keyword arguments=\", kwargs)\n",
    "\n",
    "print_values(1, 2, 8, name='ram', age=65)"
   ]
  },
  {
   "cell_type": "code",
   "execution_count": 64,
   "id": "39098faf-9c06-4ff1-b827-2a4574837fc3",
   "metadata": {},
   "outputs": [
    {
     "name": "stdout",
     "output_type": "stream",
     "text": [
      "('My name is Ram', 3.5)\n"
     ]
    }
   ],
   "source": [
    "def func_1(x):\n",
    "    s = \"My name is Ram\"\n",
    "    def func_2():\n",
    "        return(s,x)\n",
    "    return func_2()\n",
    "\n",
    "closure = func_1(3.5)\n",
    "\n",
    "print(closure)"
   ]
  },
  {
   "cell_type": "code",
   "execution_count": 68,
   "id": "74a7e90a-1925-481a-90e9-f26130089790",
   "metadata": {},
   "outputs": [
    {
     "name": "stdout",
     "output_type": "stream",
     "text": [
      "24\n"
     ]
    }
   ],
   "source": [
    "def factorial(n):\n",
    "    if n == 1 or n == 0:\n",
    "        return 1\n",
    "    else:\n",
    "        return n*factorial(n-1)\n",
    "\n",
    "fact = factorial(4)\n",
    "print(fact)"
   ]
  },
  {
   "cell_type": "code",
   "execution_count": 70,
   "id": "4c294a97-8b54-4364-8900-e3151890182c",
   "metadata": {},
   "outputs": [],
   "source": [
    "def find_average(numbers):\n",
    "    if not numbers:\n",
    "        return 0\n",
    "    return sum(numbers) / len(numbers)\n",
    "\n",
    "def filter_even(numbers):\n",
    "    return [num for num in numbers if num % 2 == 0]\n",
    "\n",
    "def reverse_list(input_list):\n",
    "    return input_list[::-1]\n",
    "\n",
    "def concatenate_lists(list1, list2):\n",
    "    return list1 + list2"
   ]
  },
  {
   "cell_type": "code",
   "execution_count": 72,
   "id": "3b60cfce-7185-4900-9f90-731caee2c1a2",
   "metadata": {},
   "outputs": [],
   "source": [
    "#module\n",
    "\n",
    "def find_average(numbers):\n",
    "    if not numbers:\n",
    "        return 0\n",
    "    return sum(numbers) / len(numbers)\n",
    "\n",
    "def filter_even(numbers):\n",
    "    return [num for num in numbers if num % 2 == 0]\n",
    "\n",
    "def reverse_list(input_list):\n",
    "    return input_list[::-1]\n",
    "\n",
    "def concatenate_lists(list1, list2):\n",
    "    return list1 + list2\n",
    "\n"
   ]
  },
  {
   "cell_type": "code",
   "execution_count": 74,
   "id": "afd747fc-cec3-4f65-9f8e-c7052b1f76df",
   "metadata": {},
   "outputs": [
    {
     "ename": "SyntaxError",
     "evalue": "invalid syntax (1152859672.py, line 1)",
     "output_type": "error",
     "traceback": [
      "\u001b[1;36m  Cell \u001b[1;32mIn[74], line 1\u001b[1;36m\u001b[0m\n\u001b[1;33m    import list_operations()\u001b[0m\n\u001b[1;37m                          ^\u001b[0m\n\u001b[1;31mSyntaxError\u001b[0m\u001b[1;31m:\u001b[0m invalid syntax\n"
     ]
    }
   ],
   "source": [
    "import list_operations()\n",
    "avg = list_operations.find_average([4,5,6,3])\n",
    "filter = list_operations.filter_even([4,3,2,6])\n",
    "print(avg, filter)"
   ]
  },
  {
   "cell_type": "code",
   "execution_count": 76,
   "id": "b013edbc-18f6-413a-9039-8396bb4722d4",
   "metadata": {},
   "outputs": [
    {
     "ename": "SyntaxError",
     "evalue": "invalid syntax (971982198.py, line 1)",
     "output_type": "error",
     "traceback": [
      "\u001b[1;36m  Cell \u001b[1;32mIn[76], line 1\u001b[1;36m\u001b[0m\n\u001b[1;33m    from list_operations() import filter_even()\u001b[0m\n\u001b[1;37m                        ^\u001b[0m\n\u001b[1;31mSyntaxError\u001b[0m\u001b[1;31m:\u001b[0m invalid syntax\n"
     ]
    }
   ],
   "source": [
    "from list_operations() import filter_even()\n",
    "even = filter_even([5,6,3,3])\n",
    "print(even)\n",
    "\n"
   ]
  },
  {
   "cell_type": "code",
   "execution_count": null,
   "id": "171ba594-86e7-490e-876a-37be3218fb96",
   "metadata": {},
   "outputs": [],
   "source": [
    "import list_operations() as pp\n",
    "\n",
    "evens = pp.find_average([2,44,55,66])\n",
    "print()evens"
   ]
  },
  {
   "cell_type": "code",
   "execution_count": 96,
   "id": "e735eebb-7e58-4f30-8fde-c29635f8f3a4",
   "metadata": {},
   "outputs": [
    {
     "name": "stdout",
     "output_type": "stream",
     "text": [
      "5\n",
      "8\n",
      "2\n",
      "1.5491933384829668\n",
      "0.675463180551151\n",
      "-0.7373937155412454\n",
      "-0.9160142896734107\n",
      "0.3868528072345416\n",
      "11.023176380641601\n",
      "3.141592653589793\n",
      "2.718281828459045\n"
     ]
    }
   ],
   "source": [
    "import math\n",
    "\n",
    "print(math.ceil(4.5))\n",
    "print(math.floor(8.6))\n",
    "print(math.trunc(2.4))\n",
    "print(math.sqrt(2.4))\n",
    "print(math.sin(2.4))\n",
    "print(math.cos(2.4))\n",
    "print(math.tan(2.4))\n",
    "print(math.log(2,6))\n",
    "print(math.exp(2.4))\n",
    "print(math.pi)\n",
    "print(math.e)\n",
    "\n"
   ]
  },
  {
   "cell_type": "code",
   "execution_count": 120,
   "id": "80ac3cdc-59be-4c6e-a887-7752a2c6b869",
   "metadata": {},
   "outputs": [
    {
     "name": "stdout",
     "output_type": "stream",
     "text": [
      "0.44056116083847685\n",
      "10\n",
      "2.836069038388643\n",
      "[7, 4, 2, 3, 6]\n",
      "6\n",
      "[3, 6, 4]\n"
     ]
    }
   ],
   "source": [
    "import random\n",
    "\n",
    "print(random.random())\n",
    "print(random.randint(1,20))\n",
    "print(random.uniform(2.0, 9.0))\n",
    "\n",
    "my_list = [4,6,7,3,2]\n",
    "random.shuffle(my_list)\n",
    "print(my_list)\n",
    "\n",
    "list2 = [5,3,2,1,6]\n",
    "print(random.choice(list2))\n",
    "\n",
    "list3 = [3,4,5,6,7,8,9]\n",
    "print(random.sample(list3, 3))\n",
    "\n",
    "\n",
    "\n"
   ]
  },
  {
   "cell_type": "code",
   "execution_count": 130,
   "id": "1cdc1850-57eb-47d3-b30d-8653333bc4ce",
   "metadata": {},
   "outputs": [
    {
     "name": "stdout",
     "output_type": "stream",
     "text": [
      "2025-01-28 20:50:41.031756\n",
      "2025-01-28\n"
     ]
    }
   ],
   "source": [
    "from datetime import datetime\n",
    "from datetime import date\n",
    "\n",
    "print(datetime.now())\n",
    "print(date.today())"
   ]
  },
  {
   "cell_type": "code",
   "execution_count": 150,
   "id": "9c7fd828-904d-4322-8cf8-77dad4b2a766",
   "metadata": {},
   "outputs": [
    {
     "name": "stdout",
     "output_type": "stream",
     "text": [
      "Deepika\n",
      "Bareilly\n",
      "45\n",
      "Rose\n"
     ]
    }
   ],
   "source": [
    "class Person:\n",
    "    name = \"Deepika\"\n",
    "    city = \"Bareilly\"\n",
    "    age = 45\n",
    "\n",
    "p1 = Person()\n",
    "print(p1.name)\n",
    "print(p1.city)\n",
    "print(p1.age)\n",
    "\n",
    "p1.name = \"Rose\"\n",
    "print(p1.name)\n",
    "\n",
    "# del p1.age\n",
    "# print(p1.age)"
   ]
  },
  {
   "cell_type": "code",
   "execution_count": 152,
   "id": "e1d3ffcf-f4ec-4de7-9051-30e18e796e73",
   "metadata": {},
   "outputs": [],
   "source": [
    "class Student:\n",
    "    def __init__(self, name, age):\n",
    "        self.name = name\n",
    "        self.age = age\n",
    "        self.grades = []\n",
    "\n",
    "    def add_grades(self, grade):\n",
    "        self.grades.append(grade)\n",
    "\n",
    "    def avg_grade(self):\n",
    "        return sum(self.grades) / len(self.grades)"
   ]
  },
  {
   "cell_type": "code",
   "execution_count": 154,
   "id": "9af918cc-6cd2-4768-afc1-e8c285586a1d",
   "metadata": {},
   "outputs": [
    {
     "ename": "NameError",
     "evalue": "name 'Dog' is not defined",
     "output_type": "error",
     "traceback": [
      "\u001b[1;31m---------------------------------------------------------------------------\u001b[0m",
      "\u001b[1;31mNameError\u001b[0m                                 Traceback (most recent call last)",
      "Cell \u001b[1;32mIn[154], line 4\u001b[0m\n\u001b[0;32m      1\u001b[0m \u001b[38;5;28;01mdef\u001b[39;00m \u001b[38;5;21mdescribe\u001b[39m(animal):\n\u001b[0;32m      2\u001b[0m     animal\u001b[38;5;241m.\u001b[39mmake_sound()\n\u001b[1;32m----> 4\u001b[0m dog \u001b[38;5;241m=\u001b[39m Dog(\u001b[38;5;124m'\u001b[39m\u001b[38;5;124mwoof\u001b[39m\u001b[38;5;124m'\u001b[39m)\n\u001b[0;32m      5\u001b[0m cat \u001b[38;5;241m=\u001b[39m Cat(\u001b[38;5;124m'\u001b[39m\u001b[38;5;124mwiskers\u001b[39m\u001b[38;5;124m'\u001b[39m)\n\u001b[0;32m      7\u001b[0m describe(dog)\n",
      "\u001b[1;31mNameError\u001b[0m: name 'Dog' is not defined"
     ]
    }
   ],
   "source": [
    "def describe(animal):\n",
    "    animal.make_sound()\n",
    "\n",
    "dog = Dog('woof')\n",
    "cat = Cat('wiskers')\n",
    "\n",
    "describe(dog)\n",
    "descirbe(cat)"
   ]
  },
  {
   "cell_type": "code",
   "execution_count": null,
   "id": "2769fef5-693e-44dd-931c-8a02a236a972",
   "metadata": {},
   "outputs": [],
   "source": [
    "class DataSet:\n",
    "    def __init__(self, data):\n",
    "        self.data = data\n",
    "\n",
    "    def analyze(self):\n",
    "\n",
    "        pass\n",
    "        "
   ]
  }
 ],
 "metadata": {
  "kernelspec": {
   "display_name": "Python 3 (ipykernel)",
   "language": "python",
   "name": "python3"
  },
  "language_info": {
   "codemirror_mode": {
    "name": "ipython",
    "version": 3
   },
   "file_extension": ".py",
   "mimetype": "text/x-python",
   "name": "python",
   "nbconvert_exporter": "python",
   "pygments_lexer": "ipython3",
   "version": "3.11.7"
  }
 },
 "nbformat": 4,
 "nbformat_minor": 5
}

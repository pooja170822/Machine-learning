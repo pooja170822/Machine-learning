{
 "cells": [
  {
   "cell_type": "code",
   "execution_count": 31,
   "id": "5092af4d-12a0-4f63-99bf-60f66d33e8c6",
   "metadata": {},
   "outputs": [
    {
     "name": "stdout",
     "output_type": "stream",
     "text": [
      "---------------MENU---------------\n",
      "\n",
      "1001 : 5 star | 10 | 0\n",
      "1002 : Bar-One | 20 | 100\n",
      "1003 : Candy | 2 | 1000\n",
      "1004 : Chocolate Cake | 510 | 8\n",
      "1005 : Blueberry Cake | 610 | 5\n",
      "-----------------------------------\n",
      "\n"
     ]
    },
    {
     "name": "stdin",
     "output_type": "stream",
     "text": [
      "Enter Product ID :  1002\n",
      "Enter Quantity   :  111111\n"
     ]
    },
    {
     "name": "stdout",
     "output_type": "stream",
     "text": [
      "Sorry, We're not having enough Quantity in our Inventory.\n",
      "We're only having 100 quantity.\n",
      "-----------------------------------\n"
     ]
    },
    {
     "name": "stdin",
     "output_type": "stream",
     "text": [
      "Press Y/y to Purchase:  y\n"
     ]
    },
    {
     "name": "stdout",
     "output_type": "stream",
     "text": [
      "-----------------------------------\n",
      "              Bill               \n",
      " \n",
      "Name           :  Bar-One\n",
      "Price (Rs)     :  20 Rs\n",
      "Quantity       :  100\n",
      "-----------------------------------\n",
      "\n",
      "Billing Amount :  2000 Rs\n",
      "-----------------------------------\n",
      "\n"
     ]
    }
   ],
   "source": [
    "import json\n",
    "\n",
    "fd = open('Records.json','r')\n",
    "js = fd.read()\n",
    "fd.close()\n",
    "\n",
    "record = json.loads(js)\n",
    "\n",
    "print(\"---------------MENU---------------\\n\")\n",
    "\n",
    "\n",
    "for key in record.keys():\n",
    "    print(key,\":\", record[key]['Name'],\"|\", record[key]['Price'],\"|\", record[key]['Qn'] )\n",
    "\n",
    "ui_pr = str(input(\"Enter Product ID : \"))\n",
    "ui_qn = int(input(\"Enter Quantity   : \"))\n",
    "\n",
    "if (record[ui_pr]['Qn'] >= ui_qn):\n",
    "    \n",
    "    record[ui_pr]['Qn'] = record[ui_pr]['Qn'] - ui_qn\n",
    "    print(\"-----------------------------------\")\n",
    "    print(\"              Bill               \\n \")\n",
    "    print(\"Name           : \", record[ui_pr]['Name'])\n",
    "    print(\"Price (Rs)     : \", record[ui_pr]['Price'],\"Rs\")\n",
    "    print(\"Quantity       : \", ui_qn)\n",
    "    print(\"-----------------------------------\\n\")\n",
    "    print(\"Billing Amount : \", record[ui_pr]['Price'] * ui_qn,\"Rs\" )\n",
    "    print(\"-----------------------------------\\n\")\n",
    "\n",
    "else:\n",
    "    print(\"Sorry, We're not having enough Quantity in our Inventory.\")\n",
    "    print(\"We're only having\",record[ui_pr]['Qn'],\"quantity.\")\n",
    "    print(\"-----------------------------------\")\n",
    "\n",
    "    ch = str(input(\"Press Y/y to Purchase: \"))\n",
    "    \n",
    "    if(ch == \"Y\" or ch == \"y\"):\n",
    "        print(\"-----------------------------------\")\n",
    "        print(\"              Bill               \\n \")\n",
    "        print(\"Name           : \", record[ui_pr]['Name'])\n",
    "        print(\"Price (Rs)     : \", record[ui_pr]['Price'],\"Rs\")\n",
    "        print(\"Quantity       : \", record[ui_pr]['Qn'])\n",
    "        print(\"-----------------------------------\\n\")\n",
    "        print(\"Billing Amount : \", record[ui_pr]['Price'] * record[ui_pr]['Qn'],\"Rs\" )\n",
    "        print(\"-----------------------------------\\n\")\n",
    "    \n",
    "        record[ui_pr]['Qn'] = 0\n",
    "\n",
    "    else:\n",
    "        print(\"Thanks!\")\n",
    "\n",
    "\n",
    "js = json.dumps(record)\n",
    "\n",
    "fd = open(\"Records.json\",'w')\n",
    "fd.write(js)\n",
    "fd.close()"
   ]
  },
  {
   "cell_type": "code",
   "execution_count": 33,
   "id": "937780b4-f7d6-4105-bde4-c1286e1242d0",
   "metadata": {},
   "outputs": [
    {
     "data": {
      "text/plain": [
       "{'1001': {'Name': '5 star', 'Price': 10, 'Qn': 0},\n",
       " '1002': {'Name': 'Bar-One', 'Price': 20, 'Qn': 0},\n",
       " '1003': {'Name': 'Candy', 'Price': 2, 'Qn': 1000},\n",
       " '1004': {'Name': 'Chocolate Cake', 'Price': 510, 'Qn': 8},\n",
       " '1005': {'Name': 'Blueberry Cake', 'Price': 610, 'Qn': 5}}"
      ]
     },
     "execution_count": 33,
     "metadata": {},
     "output_type": "execute_result"
    }
   ],
   "source": [
    "record"
   ]
  },
  {
   "cell_type": "code",
   "execution_count": 37,
   "id": "1e204039-794c-4b5f-b8db-ea768bb57f84",
   "metadata": {},
   "outputs": [
    {
     "data": {
      "text/plain": [
       "{'Name': 'Bar-One', 'Price': 20, 'Qn': 0}"
      ]
     },
     "execution_count": 37,
     "metadata": {},
     "output_type": "execute_result"
    }
   ],
   "source": [
    "record['1002']"
   ]
  },
  {
   "cell_type": "code",
   "execution_count": 39,
   "id": "d98f4996-1ff0-4bc6-a1f5-65d1bcb30bcd",
   "metadata": {},
   "outputs": [
    {
     "name": "stdout",
     "output_type": "stream",
     "text": [
      "Sorry\n"
     ]
    }
   ],
   "source": [
    "if (record['1003']['Qn'] >= ui_qn):\n",
    "    print(\"We're having enough\")\n",
    "else:\n",
    "    print(\"Sorry\")"
   ]
  },
  {
   "cell_type": "code",
   "execution_count": 41,
   "id": "27ad99d5-291f-478e-8990-b82fef5f48e2",
   "metadata": {},
   "outputs": [
    {
     "data": {
      "text/plain": [
       "111111"
      ]
     },
     "execution_count": 41,
     "metadata": {},
     "output_type": "execute_result"
    }
   ],
   "source": [
    "ui_qn"
   ]
  },
  {
   "cell_type": "markdown",
   "id": "434e0ee8-f69d-4226-94b5-565413f08713",
   "metadata": {},
   "source": [
    "# Inventory Management System JSON - Generating Sales Structure\n"
   ]
  },
  {
   "cell_type": "code",
   "execution_count": 146,
   "id": "b33ac857-9b15-41c0-a8cb-45755d49f505",
   "metadata": {},
   "outputs": [
    {
     "name": "stdout",
     "output_type": "stream",
     "text": [
      "---------------MENU---------------\n",
      "\n",
      "1001 : 5 star | 10 | 0\n",
      "1002 : Bar-One | 20 | 0\n",
      "1003 : Candy | 2 | 945\n",
      "1004 : Chocolate Cake | 510 | 5\n",
      "1005 : Blueberry Cake | 610 | 5\n"
     ]
    },
    {
     "name": "stdin",
     "output_type": "stream",
     "text": [
      "Enter your name :  pooja\n",
      "Enter Mail ID   :  qwsn@gmail.com\n",
      "Enter Phone No.   :  29288938939\n",
      "Enter Product ID  :  1005\n",
      "Enter Quantity    :  6\n"
     ]
    },
    {
     "name": "stdout",
     "output_type": "stream",
     "text": [
      "Sorry, We're not having enough Quantity in our Inventory.\n",
      "We're only having 5 quantity.\n",
      "-----------------------------------\n"
     ]
    },
    {
     "name": "stdin",
     "output_type": "stream",
     "text": [
      "Press Y/y to Purchase:  y\n"
     ]
    },
    {
     "name": "stdout",
     "output_type": "stream",
     "text": [
      "-----------------------------------\n",
      "              Bill               \n",
      " \n",
      "Name           :  Blueberry Cake\n",
      "Price (Rs)     :  610 Rs\n",
      "Quantity       :  5\n",
      "-----------------------------------\n",
      "\n",
      "Billing Amount :  3050 Rs\n",
      "-----------------------------------\n",
      "\n"
     ]
    }
   ],
   "source": [
    "import json\n",
    "import time\n",
    "\n",
    "fd = open('Records.json','r')\n",
    "js = fd.read()\n",
    "fd.close()\n",
    "\n",
    "record = json.loads(js)\n",
    "\n",
    "print(\"---------------MENU---------------\\n\")\n",
    "\n",
    "\n",
    "for key in record.keys():\n",
    "    print(key,\":\", record[key]['Name'],\"|\", record[key]['Price'],\"|\", record[key]['Qn'] )\n",
    "\n",
    "ui_name = str(input(\"Enter your name : \"))\n",
    "ui_mail = str(input(\"Enter Mail ID   : \"))\n",
    "ui_ph = str(input(\"Enter Phone No.   : \"))\n",
    "ui_pr = str(input(\"Enter Product ID  : \"))\n",
    "ui_qn = int(input(\"Enter Quantity    : \"))\n",
    "\n",
    "if (record[ui_pr]['Qn'] >= ui_qn):\n",
    "    \n",
    "    record[ui_pr]['Qn'] = record[ui_pr]['Qn'] - ui_qn\n",
    "    print(\"-----------------------------------\")\n",
    "    print(\"              Bill               \\n \")\n",
    "    print(\"Name           : \", record[ui_pr]['Name'])\n",
    "    print(\"Price (Rs)     : \", record[ui_pr]['Price'],\"Rs\")\n",
    "    print(\"Quantity       : \", ui_qn)\n",
    "    print(\"-----------------------------------\\n\")\n",
    "    print(\"Billing Amount : \", record[ui_pr]['Price'] * ui_qn,\"Rs\" )\n",
    "    print(\"-----------------------------------\\n\")\n",
    "\n",
    "    sale = '1'+\",\"+ui_name+\",\"+ui_mail+\",\"+ui_ph+\",\"+ui_pr+\",\"+record[ui_pr]['Name']+\",\"+str(ui_qn) , record[ui_pr]['Price'] , str(ui_qn*record[ui_pr]['Price'])+\",\"+time.ctime()\n",
    "\n",
    "else:\n",
    "    print(\"Sorry, We're not having enough Quantity in our Inventory.\")\n",
    "    print(\"We're only having\",record[ui_pr]['Qn'],\"quantity.\")\n",
    "    print(\"-----------------------------------\")\n",
    "\n",
    "    ch = str(input(\"Press Y/y to Purchase: \"))\n",
    "    \n",
    "    if(ch == \"Y\" or ch == \"y\"):\n",
    "        print(\"-----------------------------------\")\n",
    "        print(\"              Bill               \\n \")\n",
    "        print(\"Name           : \", record[ui_pr]['Name'])\n",
    "        print(\"Price (Rs)     : \", record[ui_pr]['Price'],\"Rs\")\n",
    "        print(\"Quantity       : \", record[ui_pr]['Qn'])\n",
    "        print(\"-----------------------------------\\n\")\n",
    "        print(\"Billing Amount : \", record[ui_pr]['Price'] * record[ui_pr]['Qn'],\"Rs\" )\n",
    "        print(\"-----------------------------------\\n\")\n",
    "\n",
    "        sale = '1'+\",\"+ui_name+\",\"+ui_mail+\",\"+ui_ph+\",\"+ui_pr+\",\"+record[ui_pr]['Name']+\",\"+str(record[ui_pr]['Qn']) , record[ui_pr]['Price'] , str(record[ui_pr]['Qn']*record[ui_pr]['Price'])+\",\"+time.ctime()\n",
    "        record[ui_pr]['Qn'] = 0\n",
    "\n",
    "    else:\n",
    "        print(\"Thanks!\")\n",
    "\n",
    "\n",
    "js = json.dumps(record)\n",
    "\n",
    "fd = open(\"Records.json\",'w')\n",
    "fd.write(js)\n",
    "fd.close()"
   ]
  },
  {
   "cell_type": "code",
   "execution_count": 148,
   "id": "cece8234-f6ab-402f-992c-3f4bc67f9a4e",
   "metadata": {},
   "outputs": [
    {
     "data": {
      "text/plain": [
       "{'1001': {'Name': '5 star', 'Price': 10, 'Qn': 0},\n",
       " '1002': {'Name': 'Bar-One', 'Price': 20, 'Qn': 0},\n",
       " '1003': {'Name': 'Candy', 'Price': 2, 'Qn': 945},\n",
       " '1004': {'Name': 'Chocolate Cake', 'Price': 510, 'Qn': 5},\n",
       " '1005': {'Name': 'Blueberry Cake', 'Price': 610, 'Qn': 0}}"
      ]
     },
     "execution_count": 148,
     "metadata": {},
     "output_type": "execute_result"
    }
   ],
   "source": [
    "record"
   ]
  },
  {
   "cell_type": "code",
   "execution_count": 45,
   "id": "083121a9-7225-4bbe-9a90-5d771ccb3343",
   "metadata": {},
   "outputs": [
    {
     "ename": "KeyError",
     "evalue": "''",
     "output_type": "error",
     "traceback": [
      "\u001b[1;31m---------------------------------------------------------------------------\u001b[0m",
      "\u001b[1;31mKeyError\u001b[0m                                  Traceback (most recent call last)",
      "Cell \u001b[1;32mIn[45], line 1\u001b[0m\n\u001b[1;32m----> 1\u001b[0m sale \u001b[38;5;241m=\u001b[39m ui_name\u001b[38;5;241m+\u001b[39m\u001b[38;5;124m\"\u001b[39m\u001b[38;5;124m,\u001b[39m\u001b[38;5;124m\"\u001b[39m\u001b[38;5;241m+\u001b[39mui_mail\u001b[38;5;241m+\u001b[39m\u001b[38;5;124m\"\u001b[39m\u001b[38;5;124m,\u001b[39m\u001b[38;5;124m\"\u001b[39m\u001b[38;5;241m+\u001b[39mui_ph\u001b[38;5;241m+\u001b[39m\u001b[38;5;124m\"\u001b[39m\u001b[38;5;124m,\u001b[39m\u001b[38;5;124m\"\u001b[39m\u001b[38;5;241m+\u001b[39mui_pr\u001b[38;5;241m+\u001b[39m\u001b[38;5;124m\"\u001b[39m\u001b[38;5;124m,\u001b[39m\u001b[38;5;124m\"\u001b[39m\u001b[38;5;241m+\u001b[39mrecord[ui_pr][\u001b[38;5;124m'\u001b[39m\u001b[38;5;124mName\u001b[39m\u001b[38;5;124m'\u001b[39m]\u001b[38;5;241m+\u001b[39m\u001b[38;5;124m\"\u001b[39m\u001b[38;5;124m,\u001b[39m\u001b[38;5;124m\"\u001b[39m\u001b[38;5;241m+\u001b[39m\u001b[38;5;28mstr\u001b[39m(record[ui_pr][\u001b[38;5;124m'\u001b[39m\u001b[38;5;124mQn\u001b[39m\u001b[38;5;124m'\u001b[39m])\u001b[38;5;241m+\u001b[39m\u001b[38;5;124m\"\u001b[39m\u001b[38;5;124m,\u001b[39m\u001b[38;5;124m\"\u001b[39m\u001b[38;5;241m+\u001b[39m\u001b[38;5;28mstr\u001b[39m(record[ui_pr][\u001b[38;5;124m'\u001b[39m\u001b[38;5;124mPrice\u001b[39m\u001b[38;5;124m'\u001b[39m])\u001b[38;5;241m+\u001b[39m\u001b[38;5;124m\"\u001b[39m\u001b[38;5;124m,\u001b[39m\u001b[38;5;124m\"\u001b[39m\u001b[38;5;241m+\u001b[39m\u001b[38;5;28mstr\u001b[39m(record[ui_pr][\u001b[38;5;124m'\u001b[39m\u001b[38;5;124mQn\u001b[39m\u001b[38;5;124m'\u001b[39m]\u001b[38;5;241m*\u001b[39mrecord[ui_pr][\u001b[38;5;124m'\u001b[39m\u001b[38;5;124mPrice\u001b[39m\u001b[38;5;124m'\u001b[39m])\u001b[38;5;241m+\u001b[39m\u001b[38;5;124m\"\u001b[39m\u001b[38;5;124m,\u001b[39m\u001b[38;5;124m\"\u001b[39m\u001b[38;5;241m+\u001b[39mtime\u001b[38;5;241m.\u001b[39mctime()\n",
      "\u001b[1;31mKeyError\u001b[0m: ''"
     ]
    }
   ],
   "source": [
    "sales = '1'+\",\"+ui_name+\",\"+ui_mail+\",\"+ui_ph+\",\"+ui_pr+\",\"+record[ui_pr]['Name']+\",\"+str(record[ui_pr]['Qn'])+\",\"+str(record[ui_pr]['Price'])+\",\"+str(record[ui_pr]['Qn']*record[ui_pr]['Price'])+\",\"+time.ctime()"
   ]
  },
  {
   "cell_type": "code",
   "execution_count": 43,
   "id": "00a79118-2d59-4227-9018-d6c2c4d0338b",
   "metadata": {},
   "outputs": [],
   "source": [
    "import time"
   ]
  },
  {
   "cell_type": "code",
   "execution_count": 154,
   "id": "8c09a96d-b6e8-4473-9411-48636da5857e",
   "metadata": {},
   "outputs": [
    {
     "data": {
      "text/plain": [
       "'Sun Mar  2 21:08:43 2025'"
      ]
     },
     "execution_count": 154,
     "metadata": {},
     "output_type": "execute_result"
    }
   ],
   "source": [
    "time.ctime()"
   ]
  },
  {
   "cell_type": "code",
   "execution_count": 39,
   "id": "73455314-31b0-43d8-9788-f98c982f7a0a",
   "metadata": {},
   "outputs": [
    {
     "data": {
      "text/plain": [
       "('1,pooja,102@gmail.com,9087998765,1002,Bar-One,2',\n",
       " 20,\n",
       " '40,Mon Mar  3 19:49:31 2025')"
      ]
     },
     "execution_count": 39,
     "metadata": {},
     "output_type": "execute_result"
    }
   ],
   "source": [
    "sale"
   ]
  },
  {
   "cell_type": "markdown",
   "id": "74958c3d-89d7-4c3b-a840-ee107ea4f0c1",
   "metadata": {},
   "source": [
    "# Day-16 \n",
    "# Inventory Management System JSON - Generating Sales files"
   ]
  },
  {
   "cell_type": "code",
   "execution_count": 81,
   "id": "59e28841-e32a-462c-a6ca-6fbbb92355ac",
   "metadata": {},
   "outputs": [
    {
     "name": "stdout",
     "output_type": "stream",
     "text": [
      "---------------MENU---------------\n",
      "\n",
      "1001 : 5 star | 10 | 78\n",
      "1002 : Bar-One | 20 | 98\n",
      "1003 : Candy | 2 | 78\n",
      "1004 : Chocolate Cake | 510 | 98\n",
      "1005 : Blueberry Cake | 610 | 97\n"
     ]
    },
    {
     "name": "stdin",
     "output_type": "stream",
     "text": [
      "Enter your name :  Anoop\n",
      "Enter Mail ID   :  Anop2542@gmail.com\n",
      "Enter Phone No.   :  84105878898\n",
      "Enter Product ID  :  1005\n",
      "Enter Quantity    :  3\n"
     ]
    },
    {
     "name": "stdout",
     "output_type": "stream",
     "text": [
      "-----------------------------------\n",
      "              Bill               \n",
      " \n",
      "Name           :  Blueberry Cake\n",
      "Price (Rs)     :  610 Rs\n",
      "Quantity       :  3\n",
      "-----------------------------------\n",
      "\n",
      "Billing Amount :  1830 Rs\n",
      "-----------------------------------\n",
      "\n",
      "-----------------------------------\n",
      "  Thanks for your order, Inventory Updated!  \n",
      "-----------------------------------\n"
     ]
    }
   ],
   "source": [
    "# Importing libraries\n",
    "import json\n",
    "import time\n",
    "\n",
    "# Initialising Variables\n",
    "sale = ''\n",
    "\n",
    "# loading the Inventory Records from JSON to String\n",
    "fd = open('Records.json','r')\n",
    "js = fd.read()\n",
    "fd.close()\n",
    "\n",
    "# Converting String Records to JSON/Dictionaries\n",
    "record = json.loads(js)\n",
    "\n",
    "# Displaying Menu\n",
    "print(\"---------------MENU---------------\\n\")\n",
    "for key in record.keys():\n",
    "    print(key,\":\", record[key]['Name'],\"|\", record[key]['Price'],\"|\", record[key]['Qn'] )\n",
    "\n",
    "# Taking User Inputs about the Purchase and User Details\n",
    "ui_name = str(input(\"Enter your name : \"))\n",
    "ui_mail = str(input(\"Enter Mail ID   : \"))\n",
    "ui_ph = str(input(\"Enter Phone No.   : \"))\n",
    "ui_pr = str(input(\"Enter Product ID  : \"))\n",
    "ui_qn = int(input(\"Enter Quantity    : \"))\n",
    "\n",
    "# If we're having equal or more quantity than the user wants\n",
    "if (record[ui_pr]['Qn'] >= ui_qn):\n",
    "\n",
    "    # Displaying Purchase Details\n",
    "    print(\"-----------------------------------\")\n",
    "    print(\"              Bill               \\n \")\n",
    "    print(\"Name           : \", record[ui_pr]['Name'])\n",
    "    print(\"Price (Rs)     : \", record[ui_pr]['Price'],\"Rs\")\n",
    "    print(\"Quantity       : \", ui_qn)\n",
    "    print(\"-----------------------------------\\n\")\n",
    "    print(\"Billing Amount : \", record[ui_pr]['Price'] * ui_qn,\"Rs\" )\n",
    "    print(\"-----------------------------------\\n\")\n",
    "\n",
    "    # Generating the Sales Structure in CSV\n",
    "    sale = ui_name+\",\"+ui_mail+\",\"+ui_ph+\",\"+ui_pr+\",\"+record[ui_pr]['Name']+\",\"+str(record[ui_pr]['Qn'])+\",\"+str(record[ui_pr]['Price'])+\",\"+str(record[ui_pr]['Qn']*record[ui_pr]['Price'])+\",\"+time.ctime() + '\\n'\n",
    "\n",
    "    # Updating Records Dictionary\n",
    "    record[ui_pr]['Qn'] = record[ui_pr]['Qn'] - ui_qn\n",
    "    \n",
    "# If we're not having enough quantity \n",
    "else:\n",
    "    # Printing Info about the quantity\n",
    "    print(\"Sorry, We're not having enough Quantity in our Inventory.\")\n",
    "    print(\"We're only having\",record[ui_pr]['Qn'],\"quantity.\")\n",
    "    print(\"-----------------------------------\")\n",
    "\n",
    "    # If user want to purchase the whole Quantity for that product\n",
    "    ch = str(input(\"Press Y/y to Purchase: \"))\n",
    "    \n",
    "    if(ch == \"Y\" or ch == \"y\"):\n",
    "\n",
    "        # Displaying Purchase Details\n",
    "        print(\"-----------------------------------\")\n",
    "        print(\"              Bill               \\n \")\n",
    "        print(\"Name           : \", record[ui_pr]['Name'])\n",
    "        print(\"Price (Rs)     : \", record[ui_pr]['Price'],\"Rs\")\n",
    "        print(\"Quantity       : \", record[ui_pr]['Qn'])\n",
    "        print(\"-----------------------------------\\n\")\n",
    "        print(\"Billing Amount : \", record[ui_pr]['Price'] * record[ui_pr]['Qn'],\"Rs\" )\n",
    "        print(\"-----------------------------------\\n\")\n",
    "\n",
    "        # Generating the Sales Structure in CSV\n",
    "        sale = ui_name+\",\"+ui_mail+\",\"+ui_ph+\",\"+ui_pr+\",\"+record[ui_pr]['Name']+\",\"+str(record[ui_pr]['Qn'])+\",\"+str(record[ui_pr]['Price'])+\",\"+str(record[ui_pr]['Qn']*record[ui_pr]['Price'])+\",\"+time.ctime() + '\\n'\n",
    "\n",
    "        # Updating Records Dictionary\n",
    "        record[ui_pr]['Qn'] = 0\n",
    "\n",
    "    # If user present anything other than Y/y\n",
    "    else:\n",
    "        print(\"Thanks!\")\n",
    "\n",
    "# Converting Dictionary to String\n",
    "js = json.dumps(record)\n",
    "\n",
    "# Saving Records in JSON file\n",
    "fd = open(\"Records.json\",'w')\n",
    "fd.write(js)\n",
    "fd.close()\n",
    "\n",
    "# Saving Records in Sales File\n",
    "fd = open('Sales.txt','a') # can be a text file or csv file\n",
    "fd.write(sale)\n",
    "fd.close()\n",
    "\n",
    "print(\"-----------------------------------\")\n",
    "print(\"  Thanks for your order, Inventory Updated!  \")\n",
    "print(\"-----------------------------------\")"
   ]
  },
  {
   "cell_type": "code",
   "execution_count": 83,
   "id": "2a0bd8af-f19f-423c-9a98-25409ff67071",
   "metadata": {},
   "outputs": [
    {
     "data": {
      "text/plain": [
       "{'1001': {'Name': '5 star', 'Price': 10, 'Qn': 78},\n",
       " '1002': {'Name': 'Bar-One', 'Price': 20, 'Qn': 98},\n",
       " '1003': {'Name': 'Candy', 'Price': 2, 'Qn': 78},\n",
       " '1004': {'Name': 'Chocolate Cake', 'Price': 510, 'Qn': 98},\n",
       " '1005': {'Name': 'Blueberry Cake', 'Price': 610, 'Qn': 94}}"
      ]
     },
     "execution_count": 83,
     "metadata": {},
     "output_type": "execute_result"
    }
   ],
   "source": [
    "record"
   ]
  },
  {
   "cell_type": "code",
   "execution_count": 87,
   "id": "3d2b2896-d927-4267-b582-870d4bc0a784",
   "metadata": {},
   "outputs": [],
   "source": [
    "fd = open('Sales.txt','a')\n",
    "fd.write(sale)\n",
    "fd.close()"
   ]
  },
  {
   "cell_type": "code",
   "execution_count": null,
   "id": "d29dd216-23ac-4753-8b2a-98524289c849",
   "metadata": {},
   "outputs": [],
   "source": []
  },
  {
   "cell_type": "code",
   "execution_count": null,
   "id": "48769467-6162-4c88-bc45-ae62119f9bc0",
   "metadata": {},
   "outputs": [],
   "source": []
  }
 ],
 "metadata": {
  "kernelspec": {
   "display_name": "Python 3 (ipykernel)",
   "language": "python",
   "name": "python3"
  },
  "language_info": {
   "codemirror_mode": {
    "name": "ipython",
    "version": 3
   },
   "file_extension": ".py",
   "mimetype": "text/x-python",
   "name": "python",
   "nbconvert_exporter": "python",
   "pygments_lexer": "ipython3",
   "version": "3.11.7"
  }
 },
 "nbformat": 4,
 "nbformat_minor": 5
}

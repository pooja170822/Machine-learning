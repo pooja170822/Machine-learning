{
 "cells": [
  {
   "cell_type": "markdown",
   "id": "53b8ff78-55d6-4da5-8375-e9f950ca04a6",
   "metadata": {},
   "source": [
    "# Reading Data Corpus(large amount of data) from text file"
   ]
  },
  {
   "cell_type": "code",
   "execution_count": 68,
   "id": "93b40098-3d85-4ff5-8173-fc4017897104",
   "metadata": {},
   "outputs": [
    {
     "name": "stdout",
     "output_type": "stream",
     "text": [
      "Main articles: Government of India and Constitution of India\n",
      "\n",
      "Rashtrapati Bhavan, the official residence of the President of India, was designed by British architects Edwin Lutyens and Herbert Baker for the Viceroy of India, and constructed between 1911 and 1931 during the British Raj.[239]\n",
      "India is a federation with a parliamentary system governed under the Constitution of Indiaâ€”the country's supreme legal document. It is a constitutional republic. Federalism in India defines the power distribution between the union and the states. The Constitution of India, which came into effect on 26 January 1950,[240] originally stated India to be a \"sovereign, democratic republic;\" this characterisation was amended in 1971 to \"a sovereign, socialist, secular, democratic republic\".[241] India's form of government, traditionally described as \"quasi-federal\" with a strong centre and weak states,[242] has grown increasingly federal since the late 1990s as a result of political, economic, and social changes.[243][244]\n",
      "\n",
      "The Government of India comprises three branches: the Executive, Legislature, and Judiciary.[245] The President of India is the ceremonial head of state,[246] who is elected indirectly for a five-year term by an electoral college comprising members of national and state legislatures.[247][248] The Prime Minister of India is the head of government and exercises most executive power.[249] Appointed by the president,[250] the prime minister is by convention supported by the party or political alliance having a majority of seats in the lower house of parliament.[249] The executive of the Indian government consists of the president, the vice-president, and the Union Council of Ministersâ€”with the cabinet being its executive committeeâ€”headed by the prime minister. Any minister holding a portfolio must be a member of one of the houses of parliament.[246] In the Indian parliamentary system, the executive is subordinate to the legislature; the prime minister and their council are directly responsible to the lower house of the parliament. Civil servants act as permanent executives and all decisions of the executive are implemented by them.[251]\n",
      "\n",
      "The legislature of India is the bicameral parliament. Operating under a Westminster-style parliamentary system, it comprises an upper house called the Rajya Sabha (Council of States) and a lower house called the Lok Sabha (House of the People).[252] The Rajya Sabha is a permanent body of 245 members who serve staggered six-year terms with elections every 2 years.[253] Most are elected indirectly by the state and union territorial legislatures in numbers proportional to their state's share of the national population.[250] The Lok Sabha's 543 members are elected directly by popular vote among citizens aged at least 18;[254] they represent single-member constituencies for five-year terms.[255] The Indian constitution historically allowed for the nomination of Anglo-Indians to two seats in the Lok Sabha; this provision was removed in 2019.[254][256] A number of seats from each state are reserved for candidates from Scheduled Castes and Scheduled Tribes in proportion to their population within that state.[254]\n",
      "\n",
      "India has a three-tier unitary independent judiciary[257] comprising the supreme court, headed by the Chief Justice of India, 25 high courts, and a large number of trial courts.[257] The supreme court has original jurisdiction over cases involving fundamental rights and over disputes between states and the centre and has appellate jurisdiction over the high courts.[258] It has the power to both strike down union or state laws which contravene the constitution[259] and invalidate any government action it deems unconstitutional.[260]\n"
     ]
    }
   ],
   "source": [
    "fd = open('test.txt','r')\n",
    "\n",
    "txt = fd.read()\n",
    "fd.close()\n",
    "\n",
    "print(txt)"
   ]
  },
  {
   "cell_type": "code",
   "execution_count": 70,
   "id": "33bca975-ea33-4ac3-91fc-04566761b96d",
   "metadata": {},
   "outputs": [
    {
     "data": {
      "text/plain": [
       "'Main articles: Government of India and Constitution of India\\n\\nRashtrapati Bhavan, the official residence of the President of India, was designed by British architects Edwin Lutyens and Herbert Baker for the Viceroy of India, and constructed between 1911 and 1931 during the British Raj.[239]\\nIndia is a federation with a parliamentary system governed under the Constitution of Indiaâ€”the country\\'s supreme legal document. It is a constitutional republic. Federalism in India defines the power distribution between the union and the states. The Constitution of India, which came into effect on 26 January 1950,[240] originally stated India to be a \"sovereign, democratic republic;\" this characterisation was amended in 1971 to \"a sovereign, socialist, secular, democratic republic\".[241] India\\'s form of government, traditionally described as \"quasi-federal\" with a strong centre and weak states,[242] has grown increasingly federal since the late 1990s as a result of political, economic, and social changes.[243][244]\\n\\nThe Government of India comprises three branches: the Executive, Legislature, and Judiciary.[245] The President of India is the ceremonial head of state,[246] who is elected indirectly for a five-year term by an electoral college comprising members of national and state legislatures.[247][248] The Prime Minister of India is the head of government and exercises most executive power.[249] Appointed by the president,[250] the prime minister is by convention supported by the party or political alliance having a majority of seats in the lower house of parliament.[249] The executive of the Indian government consists of the president, the vice-president, and the Union Council of Ministersâ€”with the cabinet being its executive committeeâ€”headed by the prime minister. Any minister holding a portfolio must be a member of one of the houses of parliament.[246] In the Indian parliamentary system, the executive is subordinate to the legislature; the prime minister and their council are directly responsible to the lower house of the parliament. Civil servants act as permanent executives and all decisions of the executive are implemented by them.[251]\\n\\nThe legislature of India is the bicameral parliament. Operating under a Westminster-style parliamentary system, it comprises an upper house called the Rajya Sabha (Council of States) and a lower house called the Lok Sabha (House of the People).[252] The Rajya Sabha is a permanent body of 245 members who serve staggered six-year terms with elections every 2 years.[253] Most are elected indirectly by the state and union territorial legislatures in numbers proportional to their state\\'s share of the national population.[250] The Lok Sabha\\'s 543 members are elected directly by popular vote among citizens aged at least 18;[254] they represent single-member constituencies for five-year terms.[255] The Indian constitution historically allowed for the nomination of Anglo-Indians to two seats in the Lok Sabha; this provision was removed in 2019.[254][256] A number of seats from each state are reserved for candidates from Scheduled Castes and Scheduled Tribes in proportion to their population within that state.[254]\\n\\nIndia has a three-tier unitary independent judiciary[257] comprising the supreme court, headed by the Chief Justice of India, 25 high courts, and a large number of trial courts.[257] The supreme court has original jurisdiction over cases involving fundamental rights and over disputes between states and the centre and has appellate jurisdiction over the high courts.[258] It has the power to both strike down union or state laws which contravene the constitution[259] and invalidate any government action it deems unconstitutional.[260]'"
      ]
     },
     "execution_count": 70,
     "metadata": {},
     "output_type": "execute_result"
    }
   ],
   "source": [
    "txt"
   ]
  },
  {
   "cell_type": "markdown",
   "id": "34fa1a33-59c6-43cd-8b6f-d3246142d06a",
   "metadata": {},
   "source": [
    "# Text Processing"
   ]
  },
  {
   "cell_type": "markdown",
   "id": "cbd06053-35f1-409f-a2f8-6519851016c1",
   "metadata": {},
   "source": [
    "## Paragraph"
   ]
  },
  {
   "cell_type": "code",
   "execution_count": 125,
   "id": "c35ec8f9-880d-4093-ae0c-82f183f06b4d",
   "metadata": {},
   "outputs": [
    {
     "name": "stdout",
     "output_type": "stream",
     "text": [
      "5\n"
     ]
    }
   ],
   "source": [
    "per = txt.split('\\n\\n')\n",
    "print(len(per))\n",
    "#print(per)"
   ]
  },
  {
   "cell_type": "code",
   "execution_count": 75,
   "id": "38224d4a-b2ea-41bc-8adb-2e28d69262db",
   "metadata": {},
   "outputs": [
    {
     "name": "stdout",
     "output_type": "stream",
     "text": [
      "<class 'list'>\n"
     ]
    },
    {
     "data": {
      "text/plain": [
       "list"
      ]
     },
     "execution_count": 75,
     "metadata": {},
     "output_type": "execute_result"
    }
   ],
   "source": [
    "print(type(per))\n",
    "#or\n",
    "type(per)\n",
    "\n"
   ]
  },
  {
   "cell_type": "code",
   "execution_count": 77,
   "id": "86da108a-92d6-4fab-8257-5059563a8b57",
   "metadata": {},
   "outputs": [
    {
     "data": {
      "text/plain": [
       "5"
      ]
     },
     "execution_count": 77,
     "metadata": {},
     "output_type": "execute_result"
    }
   ],
   "source": [
    "len(per)"
   ]
  },
  {
   "cell_type": "code",
   "execution_count": 123,
   "id": "abce808a-bc38-4d20-b70b-3830a290936d",
   "metadata": {},
   "outputs": [],
   "source": [
    "#for i in per:\n",
    "  #  print(i)"
   ]
  },
  {
   "cell_type": "markdown",
   "id": "3f306521-3e1e-4a99-a305-d0366d227cef",
   "metadata": {},
   "source": [
    "## Lines"
   ]
  },
  {
   "cell_type": "code",
   "execution_count": 117,
   "id": "3e27386f-b06b-4c5e-ac6a-19a1a8e7716c",
   "metadata": {},
   "outputs": [],
   "source": [
    "lines = txt.split('.')\n",
    "#print(lines)"
   ]
  },
  {
   "cell_type": "code",
   "execution_count": 96,
   "id": "c576e32c-c863-41ce-ab89-30b7222358f9",
   "metadata": {},
   "outputs": [
    {
     "name": "stdout",
     "output_type": "stream",
     "text": [
      "25\n"
     ]
    }
   ],
   "source": [
    "print(len(line))"
   ]
  },
  {
   "cell_type": "code",
   "execution_count": 119,
   "id": "697ddfa5-0ecb-4d74-95d2-b8d0f0b0ddf7",
   "metadata": {},
   "outputs": [],
   "source": [
    "#lines"
   ]
  },
  {
   "cell_type": "code",
   "execution_count": 104,
   "id": "710ac337-1b34-4386-98d8-fd670941486f",
   "metadata": {},
   "outputs": [
    {
     "data": {
      "text/plain": [
       "24"
      ]
     },
     "execution_count": 104,
     "metadata": {},
     "output_type": "execute_result"
    }
   ],
   "source": [
    "len(lines[:-1])"
   ]
  },
  {
   "cell_type": "code",
   "execution_count": 106,
   "id": "a7803785-2001-4fe6-a98e-1dcc000d7403",
   "metadata": {},
   "outputs": [
    {
     "data": {
      "text/plain": [
       "'[260]'"
      ]
     },
     "execution_count": 106,
     "metadata": {},
     "output_type": "execute_result"
    }
   ],
   "source": [
    "lines[-1]"
   ]
  },
  {
   "cell_type": "markdown",
   "id": "71be608f-7b7d-4abb-8587-5a9417028dc3",
   "metadata": {},
   "source": [
    "## Words"
   ]
  },
  {
   "cell_type": "code",
   "execution_count": 121,
   "id": "de41da31-7112-406e-8427-9a203c2cf791",
   "metadata": {},
   "outputs": [],
   "source": [
    "words = txt.split(\" \")\n",
    "#print(words)"
   ]
  },
  {
   "cell_type": "code",
   "execution_count": 115,
   "id": "04d0462f-70a2-4bb2-847d-fc50afb70a5d",
   "metadata": {},
   "outputs": [
    {
     "data": {
      "text/plain": [
       "544"
      ]
     },
     "execution_count": 115,
     "metadata": {},
     "output_type": "execute_result"
    }
   ],
   "source": [
    "len(words)"
   ]
  },
  {
   "cell_type": "markdown",
   "id": "bd147911-bc05-4981-8f7c-d0a9ed60ac80",
   "metadata": {},
   "source": [
    "# Advance Text Processing "
   ]
  },
  {
   "cell_type": "code",
   "execution_count": 129,
   "id": "647206a2-5876-4924-939a-77a1a8441906",
   "metadata": {},
   "outputs": [
    {
     "data": {
      "text/plain": [
       "'Main articles: Government of India and Constitution of India\\n\\nRashtrapati Bhavan, the official residence of the President of India, was designed by British architects Edwin Lutyens and Herbert Baker for the Viceroy of India, and constructed between 1911 and 1931 during the British Raj.[239]\\nIndia is a federation with a parliamentary system governed under the Constitution of Indiaâ€”the country\\'s supreme legal document. It is a constitutional republic. Federalism in India defines the power distribution between the union and the states. The Constitution of India, which came into effect on 26 January 1950,[240] originally stated India to be a \"sovereign, democratic republic;\" this characterisation was amended in 1971 to \"a sovereign, socialist, secular, democratic republic\".[241] India\\'s form of government, traditionally described as \"quasi-federal\" with a strong centre and weak states,[242] has grown increasingly federal since the late 1990s as a result of political, economic, and social changes.[243][244]\\n\\nThe Government of India comprises three branches: the Executive, Legislature, and Judiciary.[245] The President of India is the ceremonial head of state,[246] who is elected indirectly for a five-year term by an electoral college comprising members of national and state legislatures.[247][248] The Prime Minister of India is the head of government and exercises most executive power.[249] Appointed by the president,[250] the prime minister is by convention supported by the party or political alliance having a majority of seats in the lower house of parliament.[249] The executive of the Indian government consists of the president, the vice-president, and the Union Council of Ministersâ€”with the cabinet being its executive committeeâ€”headed by the prime minister. Any minister holding a portfolio must be a member of one of the houses of parliament.[246] In the Indian parliamentary system, the executive is subordinate to the legislature; the prime minister and their council are directly responsible to the lower house of the parliament. Civil servants act as permanent executives and all decisions of the executive are implemented by them.[251]\\n\\nThe legislature of India is the bicameral parliament. Operating under a Westminster-style parliamentary system, it comprises an upper house called the Rajya Sabha (Council of States) and a lower house called the Lok Sabha (House of the People).[252] The Rajya Sabha is a permanent body of 245 members who serve staggered six-year terms with elections every 2 years.[253] Most are elected indirectly by the state and union territorial legislatures in numbers proportional to their state\\'s share of the national population.[250] The Lok Sabha\\'s 543 members are elected directly by popular vote among citizens aged at least 18;[254] they represent single-member constituencies for five-year terms.[255] The Indian constitution historically allowed for the nomination of Anglo-Indians to two seats in the Lok Sabha; this provision was removed in 2019.[254][256] A number of seats from each state are reserved for candidates from Scheduled Castes and Scheduled Tribes in proportion to their population within that state.[254]\\n\\nIndia has a three-tier unitary independent judiciary[257] comprising the supreme court, headed by the Chief Justice of India, 25 high courts, and a large number of trial courts.[257] The supreme court has original jurisdiction over cases involving fundamental rights and over disputes between states and the centre and has appellate jurisdiction over the high courts.[258] It has the power to both strike down union or state laws which contravene the constitution[259] and invalidate any government action it deems unconstitutional.[260]'"
      ]
     },
     "execution_count": 129,
     "metadata": {},
     "output_type": "execute_result"
    }
   ],
   "source": [
    "txt"
   ]
  },
  {
   "cell_type": "code",
   "execution_count": 148,
   "id": "37cdd71c-90b3-4aa3-9804-b43694a08261",
   "metadata": {},
   "outputs": [
    {
     "name": "stdout",
     "output_type": "stream",
     "text": [
      "[239]\n",
      "[240]\n",
      "[241]\n",
      "[242]\n",
      "[243]\n",
      "[244]\n",
      "[245]\n",
      "[246]\n",
      "[247]\n",
      "[248]\n",
      "[249]\n",
      "[250]\n",
      "[251]\n",
      "[252]\n",
      "[253]\n",
      "[254]\n",
      "[255]\n",
      "[256]\n",
      "[257]\n",
      "[258]\n",
      "[259]\n"
     ]
    }
   ],
   "source": [
    "for i in range(239, 260):\n",
    "    pattern = \"[\" + str(i) + \"]\"\n",
    "    print(pattern)\n"
   ]
  },
  {
   "cell_type": "code",
   "execution_count": 152,
   "id": "5b7945c7-2a74-4523-a6b3-5c5e6bc0b361",
   "metadata": {},
   "outputs": [
    {
     "name": "stdout",
     "output_type": "stream",
     "text": [
      "Main articles: Government of India and Constitution of India\n",
      "\n",
      "Rashtrapati Bhavan, the official residence of the President of India, was designed by British architects Edwin Lutyens and Herbert Baker for the Viceroy of India, and constructed between 1911 and 1931 during the British Raj.\n",
      "India is a federation with a parliamentary system governed under the Constitution of Indiaâ€”the country's supreme legal document. It is a constitutional republic. Federalism in India defines the power distribution between the union and the states. The Constitution of India, which came into effect on 26 January 1950, originally stated India to be a \"sovereign, democratic republic;\" this characterisation was amended in 1971 to \"a sovereign, socialist, secular, democratic republic\". India's form of government, traditionally described as \"quasi-federal\" with a strong centre and weak states, has grown increasingly federal since the late 1990s as a result of political, economic, and social changes.\n",
      "\n",
      "The Government of India comprises three branches: the Executive, Legislature, and Judiciary. The President of India is the ceremonial head of state, who is elected indirectly for a five-year term by an electoral college comprising members of national and state legislatures. The Prime Minister of India is the head of government and exercises most executive power. Appointed by the president, the prime minister is by convention supported by the party or political alliance having a majority of seats in the lower house of parliament. The executive of the Indian government consists of the president, the vice-president, and the Union Council of Ministersâ€”with the cabinet being its executive committeeâ€”headed by the prime minister. Any minister holding a portfolio must be a member of one of the houses of parliament. In the Indian parliamentary system, the executive is subordinate to the legislature; the prime minister and their council are directly responsible to the lower house of the parliament. Civil servants act as permanent executives and all decisions of the executive are implemented by them.\n",
      "\n",
      "The legislature of India is the bicameral parliament. Operating under a Westminster-style parliamentary system, it comprises an upper house called the Rajya Sabha (Council of States) and a lower house called the Lok Sabha (House of the People). The Rajya Sabha is a permanent body of 245 members who serve staggered six-year terms with elections every 2 years. Most are elected indirectly by the state and union territorial legislatures in numbers proportional to their state's share of the national population. The Lok Sabha's 543 members are elected directly by popular vote among citizens aged at least 18; they represent single-member constituencies for five-year terms. The Indian constitution historically allowed for the nomination of Anglo-Indians to two seats in the Lok Sabha; this provision was removed in 2019. A number of seats from each state are reserved for candidates from Scheduled Castes and Scheduled Tribes in proportion to their population within that state.\n",
      "\n",
      "India has a three-tier unitary independent judiciary comprising the supreme court, headed by the Chief Justice of India, 25 high courts, and a large number of trial courts. The supreme court has original jurisdiction over cases involving fundamental rights and over disputes between states and the centre and has appellate jurisdiction over the high courts. It has the power to both strike down union or state laws which contravene the constitution and invalidate any government action it deems unconstitutional.[260]\n"
     ]
    }
   ],
   "source": [
    "for i in range(239, 260):\n",
    "    pattern = \"[\" + str(i) + \"]\"\n",
    " \n",
    "    txt = txt.replace(pattern, \"\")\n",
    "print(txt)"
   ]
  },
  {
   "cell_type": "code",
   "execution_count": 166,
   "id": "75702a46-3c8b-4e67-82dd-aa38b41aa5b5",
   "metadata": {},
   "outputs": [
    {
     "name": "stdout",
     "output_type": "stream",
     "text": [
      "Main articles Government of India and Constitution of India\n",
      "\n",
      "Rashtrapati Bhavan the official residence of the President of India was designed by British architects Edwin Lutyens and Herbert Baker for the Viceroy of India and constructed between 1911 and 1931 during the British Raj\n",
      "India is a federation with a parliamentary system governed under the Constitution of Indiaâ€”the country's supreme legal document It is a constitutional republic Federalism in India defines the power distribution between the union and the states The Constitution of India which came into effect on 26 January 1950 originally stated India to be a \"sovereign democratic republic;\" this characterisation was amended in 1971 to \"a sovereign socialist secular democratic republic\" India's form of government traditionally described as \"quasi-federal\" with a strong centre and weak states has grown increasingly federal since the late 1990s as a result of political economic and social changes\n",
      "\n",
      "The Government of India comprises three branches the Executive Legislature and Judiciary The President of India is the ceremonial head of state who is elected indirectly for a five-year term by an electoral college comprising members of national and state legislatures The Prime Minister of India is the head of government and exercises most executive power Appointed by the president the prime minister is by convention supported by the party or political alliance having a majority of seats in the lower house of parliament The executive of the Indian government consists of the president the vice-president and the Union Council of Ministersâ€”with the cabinet being its executive committeeâ€”headed by the prime minister Any minister holding a portfolio must be a member of one of the houses of parliament In the Indian parliamentary system the executive is subordinate to the legislature; the prime minister and their council are directly responsible to the lower house of the parliament Civil servants act as permanent executives and all decisions of the executive are implemented by them\n",
      "\n",
      "The legislature of India is the bicameral parliament Operating under a Westminster-style parliamentary system it comprises an upper house called the Rajya Sabha (Council of States) and a lower house called the Lok Sabha (House of the People) The Rajya Sabha is a permanent body of 245 members who serve staggered six-year terms with elections every 2 years Most are elected indirectly by the state and union territorial legislatures in numbers proportional to their state's share of the national population The Lok Sabha's 543 members are elected directly by popular vote among citizens aged at least 18; they represent single-member constituencies for five-year terms The Indian constitution historically allowed for the nomination of Anglo-Indians to two seats in the Lok Sabha; this provision was removed in 2019 A number of seats from each state are reserved for candidates from Scheduled Castes and Scheduled Tribes in proportion to their population within that state\n",
      "\n",
      "India has a three-tier unitary independent judiciary comprising the supreme court headed by the Chief Justice of India 25 high courts and a large number of trial courts The supreme court has original jurisdiction over cases involving fundamental rights and over disputes between states and the centre and has appellate jurisdiction over the high courts It has the power to both strike down union or state laws which contravene the constitution and invalidate any government action it deems unconstitutional[260]\n",
      "Main articles Government of India and Constitution of India\n",
      "\n",
      "Rashtrapati Bhavan the official residence of the President of India was designed by British architects Edwin Lutyens and Herbert Baker for the Viceroy of India and constructed between 1911 and 1931 during the British Raj\n",
      "India is a federation with a parliamentary system governed under the Constitution of Indiaâ€”the country's supreme legal document It is a constitutional republic Federalism in India defines the power distribution between the union and the states The Constitution of India which came into effect on 26 January 1950 originally stated India to be a \"sovereign democratic republic;\" this characterisation was amended in 1971 to \"a sovereign socialist secular democratic republic\" India's form of government traditionally described as \"quasi-federal\" with a strong centre and weak states has grown increasingly federal since the late 1990s as a result of political economic and social changes\n",
      "\n",
      "The Government of India comprises three branches the Executive Legislature and Judiciary The President of India is the ceremonial head of state who is elected indirectly for a five-year term by an electoral college comprising members of national and state legislatures The Prime Minister of India is the head of government and exercises most executive power Appointed by the president the prime minister is by convention supported by the party or political alliance having a majority of seats in the lower house of parliament The executive of the Indian government consists of the president the vice-president and the Union Council of Ministersâ€”with the cabinet being its executive committeeâ€”headed by the prime minister Any minister holding a portfolio must be a member of one of the houses of parliament In the Indian parliamentary system the executive is subordinate to the legislature; the prime minister and their council are directly responsible to the lower house of the parliament Civil servants act as permanent executives and all decisions of the executive are implemented by them\n",
      "\n",
      "The legislature of India is the bicameral parliament Operating under a Westminster-style parliamentary system it comprises an upper house called the Rajya Sabha (Council of States) and a lower house called the Lok Sabha (House of the People) The Rajya Sabha is a permanent body of 245 members who serve staggered six-year terms with elections every 2 years Most are elected indirectly by the state and union territorial legislatures in numbers proportional to their state's share of the national population The Lok Sabha's 543 members are elected directly by popular vote among citizens aged at least 18; they represent single-member constituencies for five-year terms The Indian constitution historically allowed for the nomination of Anglo-Indians to two seats in the Lok Sabha; this provision was removed in 2019 A number of seats from each state are reserved for candidates from Scheduled Castes and Scheduled Tribes in proportion to their population within that state\n",
      "\n",
      "India has a three-tier unitary independent judiciary comprising the supreme court headed by the Chief Justice of India 25 high courts and a large number of trial courts The supreme court has original jurisdiction over cases involving fundamental rights and over disputes between states and the centre and has appellate jurisdiction over the high courts It has the power to both strike down union or state laws which contravene the constitution and invalidate any government action it deems unconstitutional[260]\n",
      "Main articles Government of India and Constitution of India\n",
      "\n",
      "Rashtrapati Bhavan the official residence of the President of India was designed by British architects Edwin Lutyens and Herbert Baker for the Viceroy of India and constructed between 1911 and 1931 during the British Raj\n",
      "India is a federation with a parliamentary system governed under the Constitution of Indiaâ€”the country's supreme legal document It is a constitutional republic Federalism in India defines the power distribution between the union and the states The Constitution of India which came into effect on 26 January 1950 originally stated India to be a \"sovereign democratic republic;\" this characterisation was amended in 1971 to \"a sovereign socialist secular democratic republic\" India's form of government traditionally described as \"quasi-federal\" with a strong centre and weak states has grown increasingly federal since the late 1990s as a result of political economic and social changes\n",
      "\n",
      "The Government of India comprises three branches the Executive Legislature and Judiciary The President of India is the ceremonial head of state who is elected indirectly for a five-year term by an electoral college comprising members of national and state legislatures The Prime Minister of India is the head of government and exercises most executive power Appointed by the president the prime minister is by convention supported by the party or political alliance having a majority of seats in the lower house of parliament The executive of the Indian government consists of the president the vice-president and the Union Council of Ministersâ€”with the cabinet being its executive committeeâ€”headed by the prime minister Any minister holding a portfolio must be a member of one of the houses of parliament In the Indian parliamentary system the executive is subordinate to the legislature; the prime minister and their council are directly responsible to the lower house of the parliament Civil servants act as permanent executives and all decisions of the executive are implemented by them\n",
      "\n",
      "The legislature of India is the bicameral parliament Operating under a Westminster-style parliamentary system it comprises an upper house called the Rajya Sabha (Council of States) and a lower house called the Lok Sabha (House of the People) The Rajya Sabha is a permanent body of 245 members who serve staggered six-year terms with elections every 2 years Most are elected indirectly by the state and union territorial legislatures in numbers proportional to their state's share of the national population The Lok Sabha's 543 members are elected directly by popular vote among citizens aged at least 18; they represent single-member constituencies for five-year terms The Indian constitution historically allowed for the nomination of Anglo-Indians to two seats in the Lok Sabha; this provision was removed in 2019 A number of seats from each state are reserved for candidates from Scheduled Castes and Scheduled Tribes in proportion to their population within that state\n",
      "\n",
      "India has a three-tier unitary independent judiciary comprising the supreme court headed by the Chief Justice of India 25 high courts and a large number of trial courts The supreme court has original jurisdiction over cases involving fundamental rights and over disputes between states and the centre and has appellate jurisdiction over the high courts It has the power to both strike down union or state laws which contravene the constitution and invalidate any government action it deems unconstitutional[260]\n",
      "Main articles Government of India and Constitution of India\n",
      "\n",
      "Rashtrapati Bhavan the official residence of the President of India was designed by British architects Edwin Lutyens and Herbert Baker for the Viceroy of India and constructed between 1911 and 1931 during the British Raj\n",
      "India is a federation with a parliamentary system governed under the Constitution of Indiaâ€”the country's supreme legal document It is a constitutional republic Federalism in India defines the power distribution between the union and the states The Constitution of India which came into effect on 26 January 1950 originally stated India to be a \"sovereign democratic republic;\" this characterisation was amended in 1971 to \"a sovereign socialist secular democratic republic\" India's form of government traditionally described as \"quasi-federal\" with a strong centre and weak states has grown increasingly federal since the late 1990s as a result of political economic and social changes\n",
      "\n",
      "The Government of India comprises three branches the Executive Legislature and Judiciary The President of India is the ceremonial head of state who is elected indirectly for a five-year term by an electoral college comprising members of national and state legislatures The Prime Minister of India is the head of government and exercises most executive power Appointed by the president the prime minister is by convention supported by the party or political alliance having a majority of seats in the lower house of parliament The executive of the Indian government consists of the president the vice-president and the Union Council of Ministersâ€”with the cabinet being its executive committeeâ€”headed by the prime minister Any minister holding a portfolio must be a member of one of the houses of parliament In the Indian parliamentary system the executive is subordinate to the legislature; the prime minister and their council are directly responsible to the lower house of the parliament Civil servants act as permanent executives and all decisions of the executive are implemented by them\n",
      "\n",
      "The legislature of India is the bicameral parliament Operating under a Westminster-style parliamentary system it comprises an upper house called the Rajya Sabha (Council of States) and a lower house called the Lok Sabha (House of the People) The Rajya Sabha is a permanent body of 245 members who serve staggered six-year terms with elections every 2 years Most are elected indirectly by the state and union territorial legislatures in numbers proportional to their state's share of the national population The Lok Sabha's 543 members are elected directly by popular vote among citizens aged at least 18; they represent single-member constituencies for five-year terms The Indian constitution historically allowed for the nomination of Anglo-Indians to two seats in the Lok Sabha; this provision was removed in 2019 A number of seats from each state are reserved for candidates from Scheduled Castes and Scheduled Tribes in proportion to their population within that state\n",
      "\n",
      "India has a three-tier unitary independent judiciary comprising the supreme court headed by the Chief Justice of India 25 high courts and a large number of trial courts The supreme court has original jurisdiction over cases involving fundamental rights and over disputes between states and the centre and has appellate jurisdiction over the high courts It has the power to both strike down union or state laws which contravene the constitution and invalidate any government action it deems unconstitutional[260]\n",
      "Main articles Government of India and Constitution of India\n",
      "\n",
      "Rashtrapati Bhavan the official residence of the President of India was designed by British architects Edwin Lutyens and Herbert Baker for the Viceroy of India and constructed between 1911 and 1931 during the British Raj\n",
      "India is a federation with a parliamentary system governed under the Constitution of Indiaâ€”the country's supreme legal document It is a constitutional republic Federalism in India defines the power distribution between the union and the states The Constitution of India which came into effect on 26 January 1950 originally stated India to be a \"sovereign democratic republic;\" this characterisation was amended in 1971 to \"a sovereign socialist secular democratic republic\" India's form of government traditionally described as \"quasi-federal\" with a strong centre and weak states has grown increasingly federal since the late 1990s as a result of political economic and social changes\n",
      "\n",
      "The Government of India comprises three branches the Executive Legislature and Judiciary The President of India is the ceremonial head of state who is elected indirectly for a five-year term by an electoral college comprising members of national and state legislatures The Prime Minister of India is the head of government and exercises most executive power Appointed by the president the prime minister is by convention supported by the party or political alliance having a majority of seats in the lower house of parliament The executive of the Indian government consists of the president the vice-president and the Union Council of Ministersâ€”with the cabinet being its executive committeeâ€”headed by the prime minister Any minister holding a portfolio must be a member of one of the houses of parliament In the Indian parliamentary system the executive is subordinate to the legislature; the prime minister and their council are directly responsible to the lower house of the parliament Civil servants act as permanent executives and all decisions of the executive are implemented by them\n",
      "\n",
      "The legislature of India is the bicameral parliament Operating under a Westminster-style parliamentary system it comprises an upper house called the Rajya Sabha (Council of States) and a lower house called the Lok Sabha (House of the People) The Rajya Sabha is a permanent body of 245 members who serve staggered six-year terms with elections every 2 years Most are elected indirectly by the state and union territorial legislatures in numbers proportional to their state's share of the national population The Lok Sabha's 543 members are elected directly by popular vote among citizens aged at least 18; they represent single-member constituencies for five-year terms The Indian constitution historically allowed for the nomination of Anglo-Indians to two seats in the Lok Sabha; this provision was removed in 2019 A number of seats from each state are reserved for candidates from Scheduled Castes and Scheduled Tribes in proportion to their population within that state\n",
      "\n",
      "India has a three-tier unitary independent judiciary comprising the supreme court headed by the Chief Justice of India 25 high courts and a large number of trial courts The supreme court has original jurisdiction over cases involving fundamental rights and over disputes between states and the centre and has appellate jurisdiction over the high courts It has the power to both strike down union or state laws which contravene the constitution and invalidate any government action it deems unconstitutional[260]\n",
      "Main articles Government of India and Constitution of India\n",
      "\n",
      "Rashtrapati Bhavan the official residence of the President of India was designed by British architects Edwin Lutyens and Herbert Baker for the Viceroy of India and constructed between 1911 and 1931 during the British Raj\n",
      "India is a federation with a parliamentary system governed under the Constitution of Indiaâ€”the country's supreme legal document It is a constitutional republic Federalism in India defines the power distribution between the union and the states The Constitution of India which came into effect on 26 January 1950 originally stated India to be a \"sovereign democratic republic;\" this characterisation was amended in 1971 to \"a sovereign socialist secular democratic republic\" India's form of government traditionally described as \"quasi-federal\" with a strong centre and weak states has grown increasingly federal since the late 1990s as a result of political economic and social changes\n",
      "\n",
      "The Government of India comprises three branches the Executive Legislature and Judiciary The President of India is the ceremonial head of state who is elected indirectly for a five-year term by an electoral college comprising members of national and state legislatures The Prime Minister of India is the head of government and exercises most executive power Appointed by the president the prime minister is by convention supported by the party or political alliance having a majority of seats in the lower house of parliament The executive of the Indian government consists of the president the vice-president and the Union Council of Ministersâ€”with the cabinet being its executive committeeâ€”headed by the prime minister Any minister holding a portfolio must be a member of one of the houses of parliament In the Indian parliamentary system the executive is subordinate to the legislature; the prime minister and their council are directly responsible to the lower house of the parliament Civil servants act as permanent executives and all decisions of the executive are implemented by them\n",
      "\n",
      "The legislature of India is the bicameral parliament Operating under a Westminster-style parliamentary system it comprises an upper house called the Rajya Sabha (Council of States) and a lower house called the Lok Sabha (House of the People) The Rajya Sabha is a permanent body of 245 members who serve staggered six-year terms with elections every 2 years Most are elected indirectly by the state and union territorial legislatures in numbers proportional to their state's share of the national population The Lok Sabha's 543 members are elected directly by popular vote among citizens aged at least 18; they represent single-member constituencies for five-year terms The Indian constitution historically allowed for the nomination of Anglo-Indians to two seats in the Lok Sabha; this provision was removed in 2019 A number of seats from each state are reserved for candidates from Scheduled Castes and Scheduled Tribes in proportion to their population within that state\n",
      "\n",
      "India has a three-tier unitary independent judiciary comprising the supreme court headed by the Chief Justice of India 25 high courts and a large number of trial courts The supreme court has original jurisdiction over cases involving fundamental rights and over disputes between states and the centre and has appellate jurisdiction over the high courts It has the power to both strike down union or state laws which contravene the constitution and invalidate any government action it deems unconstitutional[260]\n"
     ]
    }
   ],
   "source": [
    "for i in \"!@#$%^\":\n",
    "    txt = txt.replace(i, \"\")\n",
    "    print(txt)"
   ]
  },
  {
   "cell_type": "markdown",
   "id": "9c8bcc03-d4ff-40e5-bd28-08a5eec5dd68",
   "metadata": {},
   "source": [
    "# Writing Data on Text File\n"
   ]
  },
  {
   "cell_type": "code",
   "execution_count": 197,
   "id": "a72db3dd-c5cb-4e52-8e0a-8fe9e35e8a4c",
   "metadata": {},
   "outputs": [],
   "source": [
    "fd = open(\"Data.txt\",\"w\")\n",
    "\n",
    "fd.write(\"I come one monday.\")\n",
    "\n",
    "fd.close()"
   ]
  },
  {
   "cell_type": "code",
   "execution_count": null,
   "id": "c7ddcd34-d4d5-429c-a086-7141aa68fad8",
   "metadata": {},
   "outputs": [],
   "source": []
  },
  {
   "cell_type": "code",
   "execution_count": null,
   "id": "59e5491a-e361-4a7e-8016-7f19493fdd1b",
   "metadata": {},
   "outputs": [],
   "source": []
  }
 ],
 "metadata": {
  "kernelspec": {
   "display_name": "Python 3 (ipykernel)",
   "language": "python",
   "name": "python3"
  },
  "language_info": {
   "codemirror_mode": {
    "name": "ipython",
    "version": 3
   },
   "file_extension": ".py",
   "mimetype": "text/x-python",
   "name": "python",
   "nbconvert_exporter": "python",
   "pygments_lexer": "ipython3",
   "version": "3.11.7"
  }
 },
 "nbformat": 4,
 "nbformat_minor": 5
}

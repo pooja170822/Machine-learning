{
 "cells": [
  {
   "cell_type": "code",
   "execution_count": 8,
   "id": "b81ae01a-4df0-4538-a8b4-d4bc9ad2ca1a",
   "metadata": {},
   "outputs": [
    {
     "name": "stdout",
     "output_type": "stream",
     "text": [
      "[0, 1, 4, 9, 16]\n"
     ]
    }
   ],
   "source": [
    "squares = [x**2 for x in range(5)]\n",
    "print (squares)"
   ]
  },
  {
   "cell_type": "code",
   "execution_count": 10,
   "id": "ba891283-942a-42c1-a867-1551bdd7389e",
   "metadata": {},
   "outputs": [
    {
     "name": "stdout",
     "output_type": "stream",
     "text": [
      "[0, 2, 4, 6, 8]\n"
     ]
    }
   ],
   "source": [
    "even = [x for x in range(10) if x % 2 == 0]\n",
    "print(even)"
   ]
  },
  {
   "cell_type": "code",
   "execution_count": 12,
   "id": "2706fd3a-d673-4461-b6f0-218d737c3719",
   "metadata": {},
   "outputs": [
    {
     "name": "stdout",
     "output_type": "stream",
     "text": [
      "[[0, 0, 0, 0], [0, 1, 2, 3], [0, 2, 4, 6], [0, 3, 6, 9], [0, 4, 8, 12]]\n"
     ]
    }
   ],
   "source": [
    "matrix = [[i*j for j in range(4)]for i in range(5)]\n",
    "print(matrix)"
   ]
  },
  {
   "cell_type": "code",
   "execution_count": 16,
   "id": "35e1a301-9eac-4b6d-ab84-cc36ddc24766",
   "metadata": {},
   "outputs": [
    {
     "name": "stdout",
     "output_type": "stream",
     "text": [
      "['A', 'B', 'C']\n"
     ]
    }
   ],
   "source": [
    "letters = ['a','b','c']\n",
    "upper_case = [letter.upper() for letter in letters]\n",
    "print(upper_case)"
   ]
  },
  {
   "cell_type": "code",
   "execution_count": 22,
   "id": "408da602-8cb8-4354-ac6c-5b9166d974db",
   "metadata": {},
   "outputs": [
    {
     "name": "stdin",
     "output_type": "stream",
     "text": [
      "Enter the starting number of the range:  1\n",
      "Enter the ending number of the range:  10\n"
     ]
    },
    {
     "name": "stdout",
     "output_type": "stream",
     "text": [
      "Prime numbers in the range (1, 10): [2, 3, 5, 7]\n"
     ]
    }
   ],
   "source": [
    "def is_prime(num):\n",
    "    if num < 2:\n",
    "        return False\n",
    "    for i in range(2, int(num**0.5) + 1):\n",
    "        if num % i == 0:\n",
    "            return False\n",
    "    return True\n",
    "\n",
    "# Function to generate a list of prime numbers in a range\n",
    "def primes_in_range(start, end):\n",
    "    return [num for num in range(start, end + 1) if is_prime(num)]\n",
    "\n",
    "start_range = int(input(\"Enter the starting number of the range: \"))\n",
    "end_range = int(input(\"Enter the ending number of the range: \"))\n",
    "\n",
    "result = primes_in_range(start_range, end_range)\n",
    "print(f\"Prime numbers in the range ({start_range}, {end_range}): {result}\")"
   ]
  },
  {
   "cell_type": "code",
   "execution_count": 24,
   "id": "826dcf9f-7e71-471f-a6b1-6c4f32a83c83",
   "metadata": {},
   "outputs": [
    {
     "name": "stdin",
     "output_type": "stream",
     "text": [
      "Enter the starting number of the range:  423\n",
      "Enter the ending number of the range:  456\n"
     ]
    },
    {
     "name": "stdout",
     "output_type": "stream",
     "text": [
      "Prime numbers in the range (423, 456): [423, 425, 427, 429, 431, 433, 435, 437, 439, 441, 443, 445, 447, 449, 451, 453, 455]\n"
     ]
    }
   ],
   "source": [
    "def is_prime(num):\n",
    "    if num <2:\n",
    "        return False\n",
    "    for i in range(2, int(num**0.5) + 1):\n",
    "        if num % i == 0:\n",
    "            return False\n",
    "        return True \n",
    "\n",
    "def primes_in_range(start, end):\n",
    "    return [num for num in range(start, end + 1) if is_prime(num)]\n",
    "\n",
    "start_range = int(input(\"Enter the starting number of the range: \"))\n",
    "end_range = int(input(\"Enter the ending number of the range: \"))\n",
    "\n",
    "result = primes_in_range(start_range, end_range)\n",
    "print(f\"Prime numbers in the range ({start_range}, {end_range}): {result}\")"
   ]
  },
  {
   "cell_type": "code",
   "execution_count": 40,
   "id": "eded6dae-c5f9-4634-8cbf-11567a7f5e1b",
   "metadata": {},
   "outputs": [
    {
     "name": "stdout",
     "output_type": "stream",
     "text": [
      "Empty dictionary\n",
      "{}\n",
      "\n",
      "\n",
      "dictionay w/ the dict() method\n",
      "{1: 'apple', 2: 'banana'}\n",
      "\n",
      "\n",
      "{1: 'cherry', 2: 'dog'}\n"
     ]
    }
   ],
   "source": [
    "Dict = {}\n",
    "print(\"Empty dictionary\")\n",
    "print(Dict)\n",
    "\n",
    "print('\\n')\n",
    "\n",
    "Dict = dict({1:'apple', 2:'banana'})\n",
    "print(\"dictionay w/ the dict() method\")\n",
    "print(Dict)\n",
    "\n",
    "print('\\n')\n",
    "\n",
    "Dict = dict([(1,'cherry'), (2,'dog')])\n",
    "print(Dict)\n"
   ]
  },
  {
   "cell_type": "code",
   "execution_count": 5,
   "id": "ea5c865c-5bf3-433e-9bb2-50dbb2c4dae9",
   "metadata": {},
   "outputs": [
    {
     "ename": "TypeError",
     "evalue": "'dict' object is not callable",
     "output_type": "error",
     "traceback": [
      "\u001b[1;31m---------------------------------------------------------------------------\u001b[0m",
      "\u001b[1;31mTypeError\u001b[0m                                 Traceback (most recent call last)",
      "Cell \u001b[1;32mIn[5], line 1\u001b[0m\n\u001b[1;32m----> 1\u001b[0m Dict \u001b[38;5;241m=\u001b[39m \u001b[38;5;28mdict\u001b[39m({\u001b[38;5;124m'\u001b[39m\u001b[38;5;124mname\u001b[39m\u001b[38;5;124m'\u001b[39m:\u001b[38;5;124m'\u001b[39m\u001b[38;5;124mflower\u001b[39m\u001b[38;5;124m'\u001b[39m, \u001b[38;5;124m'\u001b[39m\u001b[38;5;124mage\u001b[39m\u001b[38;5;124m'\u001b[39m:\u001b[38;5;124m'\u001b[39m\u001b[38;5;124m23\u001b[39m\u001b[38;5;124m'\u001b[39m})\n\u001b[0;32m      2\u001b[0m \u001b[38;5;28mprint\u001b[39m(Dict[\u001b[38;5;124m'\u001b[39m\u001b[38;5;124mname\u001b[39m\u001b[38;5;124m'\u001b[39m])\n\u001b[0;32m      3\u001b[0m \u001b[38;5;28mprint\u001b[39m(Dict\u001b[38;5;241m.\u001b[39mget(\u001b[38;5;124m'\u001b[39m\u001b[38;5;124mcity\u001b[39m\u001b[38;5;124m'\u001b[39m,\u001b[38;5;124m'\u001b[39m\u001b[38;5;124munknown\u001b[39m\u001b[38;5;124m'\u001b[39m))\n",
      "\u001b[1;31mTypeError\u001b[0m: 'dict' object is not callable"
     ]
    }
   ],
   "source": [
    "Dict = dict({'name':'flower', 'age':'23'})\n",
    "print(Dict['name'])\n",
    "print(Dict.get('city','unknown'))\n",
    "print(Dict['age'])\n",
    "print(Dict.get('name','unknown'))\n",
    "\n",
    "Dict['city'] = 'bareilly'\n",
    "Dict['house'] = 'white'\n",
    "\n",
    "print(Dict.get('city','unknown '))\n",
    "print(Dict['house'])\n",
    "\n",
    "\n",
    "remove = Dict.pop('house')\n",
    "print(remove)\n",
    "print(Dict)\n",
    "\n",
    "del(Dict['city'])\n",
    "print(Dict)"
   ]
  },
  {
   "cell_type": "code",
   "execution_count": 3,
   "id": "09fac87b-bbe9-4e66-b3df-ee53d5f590f4",
   "metadata": {},
   "outputs": [
    {
     "name": "stdout",
     "output_type": "stream",
     "text": [
      "{2: 4, 4: 16, 6: 36, 8: 64, 10: 100}\n"
     ]
    }
   ],
   "source": [
    "dict = {x:x**2 for x in range(1, 11) if x % 2 == 0}\n",
    "print(dict)"
   ]
  },
  {
   "cell_type": "code",
   "execution_count": 67,
   "id": "616463c7-b05f-4235-9caf-04225bf7b163",
   "metadata": {},
   "outputs": [
    {
     "name": "stdout",
     "output_type": "stream",
     "text": [
      "{1: 'a', 2: 'b', 3: 'c'}\n"
     ]
    }
   ],
   "source": [
    "keys = [1,2,3]\n",
    "values = ['a','b','c']\n",
    "\n",
    "result = {k: v for k, v in zip(keys, values)}\n",
    "print(result)"
   ]
  },
  {
   "cell_type": "code",
   "execution_count": 71,
   "id": "245581a3-145e-4863-be55-cbbb273da714",
   "metadata": {},
   "outputs": [
    {
     "name": "stdout",
     "output_type": "stream",
     "text": [
      "{3: {2: 6, 3: 9, 4: 12, 5: 15}, 4: {2: 8, 3: 12, 4: 16, 5: 20}, 5: {2: 10, 3: 15, 4: 20, 5: 25}, 6: {2: 12, 3: 18, 4: 24, 5: 30}}\n"
     ]
    }
   ],
   "source": [
    "dict = {\n",
    "    k1: {k2: k1*k2 for k2 in range(2,6)}for k1 in range(3,7)\n",
    "}\n",
    "print(dict)"
   ]
  },
  {
   "cell_type": "code",
   "execution_count": 93,
   "id": "96b5f064-a9f5-440b-8120-cc4d9c033524",
   "metadata": {},
   "outputs": [
    {
     "name": "stdout",
     "output_type": "stream",
     "text": [
      "{1, 2, 3, 4}\n",
      "{1, 2, 3, 4, 5, 6, 7}\n",
      "{1, 2, 3, 4, 6, 7}\n",
      "{1, 2, 3, 4, 7}\n",
      "{2, 3, 4, 7} Popped ele is1\n",
      "{2, 3, 4, 7}\n"
     ]
    }
   ],
   "source": [
    "set = {1,2,3}\n",
    "set.add(4)\n",
    "print(set)\n",
    "set.update([5,6,7])\n",
    "print(set)\n",
    "\n",
    "set.remove(5)\n",
    "print(set)\n",
    "set.discard(6)\n",
    "print(set)\n",
    "popped = set.pop()\n",
    "print(set,f\"Popped ele is{popped}\")\n",
    "print(set)\n"
   ]
  },
  {
   "cell_type": "code",
   "execution_count": 99,
   "id": "7dbb4ee3-014f-4591-ba45-bf440609d5fc",
   "metadata": {},
   "outputs": [
    {
     "name": "stdout",
     "output_type": "stream",
     "text": [
      "union : {1, 2, 3, 4, 5, 6, 7, 8, 9}\n",
      "intersection : {5}\n",
      "difference : {8, 9, 6, 7}\n",
      "symmetric diff: {1, 2, 3, 4, 6, 7, 8, 9}\n"
     ]
    }
   ],
   "source": [
    "set1 = {1,2,3,4,5}\n",
    "set2 = {5,6,7,8,9}\n",
    "\n",
    "union = set1.union(set2)\n",
    "intersection = set1.intersection(set2)\n",
    "difference = set2-set1\n",
    "symmetric_diff= set1 ^ set2\n",
    "\n",
    "print(f\"union : {union}\")\n",
    "print(f\"intersection : {intersection}\")\n",
    "print(f\"difference : {difference}\")\n",
    "print(f\"symmetric diff: {symmetric_diff}\")"
   ]
  },
  {
   "cell_type": "code",
   "execution_count": 105,
   "id": "e60c1182-6709-4f83-a378-500ea3029f33",
   "metadata": {},
   "outputs": [
    {
     "name": "stdout",
     "output_type": "stream",
     "text": [
      "copy of the set: {2, 3, 4, 5, 6}\n",
      "length of set: 5\n",
      "set()\n"
     ]
    }
   ],
   "source": [
    "set = {4,5,2,6,3}\n",
    "copy_set = set.copy()\n",
    "length_copy = len(set)\n",
    "print(f'copy of the set: {copy_set}')\n",
    "print(f\"length of set: {length_copy}\")\n",
    "\n",
    "set.clear()\n",
    "print(set)"
   ]
  },
  {
   "cell_type": "code",
   "execution_count": 111,
   "id": "4322b28e-adab-4a5f-aff1-9b1678d2e84a",
   "metadata": {},
   "outputs": [
    {
     "name": "stdout",
     "output_type": "stream",
     "text": [
      "2 is not in set\n"
     ]
    }
   ],
   "source": [
    "set = {4,7,8,3}\n",
    "if 2 in set:\n",
    "    print(\"2 in set\")\n",
    "else:\n",
    "    print(\"2 is not in set\")"
   ]
  },
  {
   "cell_type": "code",
   "execution_count": 133,
   "id": "f7f9bcde-a1fa-45e9-94e7-2c26b5761081",
   "metadata": {},
   "outputs": [
    {
     "name": "stdout",
     "output_type": "stream",
     "text": [
      "7.8\n",
      "-09\n",
      "index: 2\n",
      "count:0\n",
      "pack_tuple: (1, 4, 'nice'), unpack_tuple a:1, b:4, c:nice\n"
     ]
    }
   ],
   "source": [
    "tuple = (4, 7.8, 'helllo', '-09')\n",
    "ele1 = tuple[1]\n",
    "ele2 = tuple[-1]\n",
    "print(ele1)\n",
    "print(ele2)\n",
    "\n",
    "index = tuple.index('helllo')\n",
    "print(f\"index: {index}\")\n",
    "count = tuple.count(2)\n",
    "print(f\"count:{count}\")\n",
    "\n",
    "packed = 1,4,'nice'\n",
    "\n",
    "a,b,c = packed\n",
    "\n",
    "print(f\"pack_tuple: {packed}, unpack_tuple a:{a}, b:{b}, c:{c}\")"
   ]
  },
  {
   "cell_type": "code",
   "execution_count": null,
   "id": "9645146a-b4d0-47fb-b402-22be3983543c",
   "metadata": {},
   "outputs": [],
   "source": []
  }
 ],
 "metadata": {
  "kernelspec": {
   "display_name": "Python 3 (ipykernel)",
   "language": "python",
   "name": "python3"
  },
  "language_info": {
   "codemirror_mode": {
    "name": "ipython",
    "version": 3
   },
   "file_extension": ".py",
   "mimetype": "text/x-python",
   "name": "python",
   "nbconvert_exporter": "python",
   "pygments_lexer": "ipython3",
   "version": "3.11.7"
  }
 },
 "nbformat": 4,
 "nbformat_minor": 5
}

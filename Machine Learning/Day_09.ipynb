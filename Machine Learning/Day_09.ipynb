{
 "cells": [
  {
   "cell_type": "code",
   "execution_count": 41,
   "id": "37d0dd97-89cc-493d-b4f7-fa71b9ac453c",
   "metadata": {},
   "outputs": [],
   "source": [
    "fd = open('list.txt', 'a')\n",
    "\n",
    "#fd.write(\"Hello to all, welcome to jupyter notebook. I am Pooja\")\n",
    "#fd.write(\"This is Jupyter Notebook.\")\n",
    "#fd.write(\" Here we write the code.\")\n",
    "fd.write(\" nice.\")\n",
    "\n",
    "fd.close()\n",
    "\n"
   ]
  },
  {
   "cell_type": "code",
   "execution_count": 51,
   "id": "38f2398a-e2cd-4224-91cb-8a435d0fe990",
   "metadata": {},
   "outputs": [],
   "source": [
    "fd = open(\"list2.txt\",\"a\")\n",
    "#'\\n' - represents a new line\n",
    "fd.write(\"Hello everyone\\n\")\n",
    "\n",
    "fd.close()"
   ]
  },
  {
   "cell_type": "code",
   "execution_count": 61,
   "id": "ebbe8283-4427-4bc6-8259-d365b66e5514",
   "metadata": {},
   "outputs": [
    {
     "name": "stdin",
     "output_type": "stream",
     "text": [
      "Enter the text: its going to be used when you are want to save your data automatically\n"
     ]
    }
   ],
   "source": [
    "fd = open('list3','a')\n",
    "\n",
    "txt = input(\"Enter the text:\")\n",
    "txt = txt + '.\\n'\n",
    "\n",
    "fd.write(txt)\n",
    "fd.close()"
   ]
  },
  {
   "cell_type": "markdown",
   "id": "f684469e-b053-43e9-93ed-6f5d32659c1b",
   "metadata": {},
   "source": [
    "# Inventory Management"
   ]
  },
  {
   "cell_type": "code",
   "execution_count": 64,
   "id": "7fd87258-e48b-4191-9141-d8a6924d5f63",
   "metadata": {},
   "outputs": [],
   "source": [
    "fd = open('Inventory.txt','w')\n",
    "fd.close()"
   ]
  },
  {
   "cell_type": "markdown",
   "id": "81ae57c2-789f-4e1a-97b2-e749e43989bd",
   "metadata": {},
   "source": [
    "## Product Details\n",
    "1. Product Id\n",
    "2. Name of the Product\n",
    "3. Price of Product\n",
    "4. Quantity"
   ]
  },
  {
   "cell_type": "code",
   "execution_count": 67,
   "id": "5cf59885-38bd-4aac-a4e4-5a17e92db768",
   "metadata": {},
   "outputs": [],
   "source": [
    "fd = open('Inventory.txt','r')\n",
    "\n",
    "txt = fd.read()\n",
    "\n",
    "fd.close()"
   ]
  },
  {
   "cell_type": "code",
   "execution_count": 69,
   "id": "57507f5b-aa0a-4c4b-9756-25e31e573cba",
   "metadata": {},
   "outputs": [
    {
     "name": "stdout",
     "output_type": "stream",
     "text": [
      "1,Choco,10,100\n",
      "2,Milkybar,5,20\n",
      "3,Munch,10,200\n",
      "4,Cake,100,4\n"
     ]
    }
   ],
   "source": [
    "print(txt)"
   ]
  },
  {
   "cell_type": "code",
   "execution_count": 71,
   "id": "41a46ea5-0515-429b-a866-146828cb8b58",
   "metadata": {},
   "outputs": [
    {
     "data": {
      "text/plain": [
       "'1,Choco,10,100\\n2,Milkybar,5,20\\n3,Munch,10,200\\n4,Cake,100,4'"
      ]
     },
     "execution_count": 71,
     "metadata": {},
     "output_type": "execute_result"
    }
   ],
   "source": [
    "txt\n"
   ]
  },
  {
   "cell_type": "code",
   "execution_count": 73,
   "id": "ca6071af-cb0f-4a84-ae40-565462574295",
   "metadata": {},
   "outputs": [
    {
     "data": {
      "text/plain": [
       "['1,Choco,10,100', '2,Milkybar,5,20', '3,Munch,10,200', '4,Cake,100,4']"
      ]
     },
     "execution_count": 73,
     "metadata": {},
     "output_type": "execute_result"
    }
   ],
   "source": [
    "txt.split('\\n')"
   ]
  },
  {
   "cell_type": "code",
   "execution_count": 2,
   "id": "15d405b9-63bd-4b7f-aa6f-2054c091fd0a",
   "metadata": {},
   "outputs": [
    {
     "data": {
      "text/plain": [
       "['1,Choco,10,100', '2,Milkybar,5,20', '3,Munch,10,200', '4,Cake,100,4']"
      ]
     },
     "execution_count": 2,
     "metadata": {},
     "output_type": "execute_result"
    }
   ],
   "source": [
    "fd = open('Inventory.txt','r')\n",
    "\n",
    "products = fd.read().split('\\n')\n",
    "\n",
    "fd.close()\n",
    "products"
   ]
  },
  {
   "cell_type": "code",
   "execution_count": 103,
   "id": "7d11b06e-15df-4666-9187-3119a5e271ff",
   "metadata": {},
   "outputs": [
    {
     "name": "stdout",
     "output_type": "stream",
     "text": [
      "1,Choco,10,100\n",
      "2,Milkybar,5,20\n",
      "3,Munch,10,200\n",
      "4,Cake,100,4\n"
     ]
    }
   ],
   "source": [
    "for i in products:\n",
    "    print(i)"
   ]
  },
  {
   "cell_type": "code",
   "execution_count": 4,
   "id": "d0d4ed22-4ef5-4e39-a42c-e5a933f73a44",
   "metadata": {},
   "outputs": [
    {
     "name": "stdin",
     "output_type": "stream",
     "text": [
      "Enter the product Id: 3\n"
     ]
    },
    {
     "name": "stdout",
     "output_type": "stream",
     "text": [
      "3,Munch,10,200\n"
     ]
    }
   ],
   "source": [
    "user_pro_id = input(\"Enter the product Id:\")\n",
    "\n",
    "for product in products:\n",
    "    #print(product)\n",
    "    #print(product.split(','))\n",
    "    #print(product.split(',')[0])\n",
    "    if (product.split(',')[0] == user_pro_id) :\n",
    "        print(product)\n",
    "    \n",
    "    \n"
   ]
  },
  {
   "cell_type": "code",
   "execution_count": 6,
   "id": "417f2197-64d5-48e4-966c-f5007d099024",
   "metadata": {},
   "outputs": [
    {
     "name": "stdin",
     "output_type": "stream",
     "text": [
      "Enter the product ID:  1\n",
      "Enter product Quantity 3\n"
     ]
    },
    {
     "name": "stdout",
     "output_type": "stream",
     "text": [
      "-----------------------------\n",
      "Product Name       :  Choco\n",
      "Price              :  10\n",
      "Quantity           :  3\n",
      "-----------------------------\n",
      "Billing Amount     :  30\n",
      "-----------------------------\n"
     ]
    }
   ],
   "source": [
    "ui_prod_id = input(\"Enter the product ID: \")\n",
    "ui_prod_qn = input(\"Enter product Quantity\")\n",
    "\n",
    "for product in products:\n",
    "\n",
    "    prod_details = product.split(',')\n",
    "    if(prod_details[0] == ui_prod_id):\n",
    "        print(\"-----------------------------\")\n",
    "        print(\"Product Name       : \", prod_details[1])\n",
    "        print(\"Price              : \", prod_details[2])\n",
    "        print(\"Quantity           : \", ui_prod_qn)\n",
    "        print(\"-----------------------------\")\n",
    "        print(\"Billing Amount     : \", int(ui_prod_qn) * int(prod_details[2]))\n",
    "        print(\"-----------------------------\")"
   ]
  },
  {
   "cell_type": "code",
   "execution_count": 97,
   "id": "014749c7-33fb-4870-b0cc-2e0189710d57",
   "metadata": {},
   "outputs": [
    {
     "name": "stdout",
     "output_type": "stream",
     "text": [
      "<class 'str'>\n"
     ]
    }
   ],
   "source": [
    "print(type(product))"
   ]
  },
  {
   "cell_type": "code",
   "execution_count": null,
   "id": "804a681b-841d-4a12-88f7-d71c1a3fb7b4",
   "metadata": {},
   "outputs": [],
   "source": []
  }
 ],
 "metadata": {
  "kernelspec": {
   "display_name": "Python 3 (ipykernel)",
   "language": "python",
   "name": "python3"
  },
  "language_info": {
   "codemirror_mode": {
    "name": "ipython",
    "version": 3
   },
   "file_extension": ".py",
   "mimetype": "text/x-python",
   "name": "python",
   "nbconvert_exporter": "python",
   "pygments_lexer": "ipython3",
   "version": "3.11.7"
  }
 },
 "nbformat": 4,
 "nbformat_minor": 5
}

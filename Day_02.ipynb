{
 "cells": [
  {
   "cell_type": "code",
   "execution_count": 4,
   "id": "0e8d95d6-0039-4e1e-b40f-0dd60bf7fe8e",
   "metadata": {},
   "outputs": [
    {
     "name": "stdout",
     "output_type": "stream",
     "text": [
      "greater\n",
      "out of if\n"
     ]
    }
   ],
   "source": [
    "x=6;\n",
    "if x>3:\n",
    "    print(\"greater\");\n",
    "print(\"out of if\");"
   ]
  },
  {
   "cell_type": "code",
   "execution_count": 14,
   "id": "74c90ded-4c4e-43d0-b527-36f01605d593",
   "metadata": {},
   "outputs": [
    {
     "name": "stdout",
     "output_type": "stream",
     "text": [
      "allowed\n"
     ]
    }
   ],
   "source": [
    "x=19;\n",
    "if x>18:\n",
    "    print(\"allowed\");\n",
    "else:\n",
    "    print(\"not allowed\");"
   ]
  },
  {
   "cell_type": "code",
   "execution_count": 16,
   "id": "81e181f1-589b-4dd9-a50a-f5eb8504338d",
   "metadata": {},
   "outputs": [
    {
     "name": "stdout",
     "output_type": "stream",
     "text": [
      "True\n"
     ]
    }
   ],
   "source": [
    "i=8;\n",
    "print(True) if i<10 else print(False)"
   ]
  },
  {
   "cell_type": "code",
   "execution_count": 22,
   "id": "235332f8-9dbf-4084-9240-11a7b2af2946",
   "metadata": {},
   "outputs": [
    {
     "name": "stdout",
     "output_type": "stream",
     "text": [
      "+\n"
     ]
    }
   ],
   "source": [
    "i=90;\n",
    "if i>0:\n",
    "    print(\"+\");\n",
    "elif i<0:\n",
    "    print(\"-\")\n",
    "else:\n",
    "    print(\"0\")"
   ]
  },
  {
   "cell_type": "code",
   "execution_count": 32,
   "id": "01792d4e-8d2e-44d2-b3ec-46c626a07750",
   "metadata": {},
   "outputs": [],
   "source": [
    "i=110;\n",
    "if i>0:\n",
    "    if i<100:\n",
    "        print(\"no. is greater than 0 but less than 100\")\n",
    "else:\n",
    "    print(\"no. is greater than 0 and greater than 100\")"
   ]
  },
  {
   "cell_type": "code",
   "execution_count": 39,
   "id": "911532b8-e2df-4bf6-bb9d-0357026c78ae",
   "metadata": {},
   "outputs": [
    {
     "name": "stdin",
     "output_type": "stream",
     "text": [
      "Enter a year:  9999\n"
     ]
    },
    {
     "name": "stdout",
     "output_type": "stream",
     "text": [
      "9999 is not a leap year.\n"
     ]
    }
   ],
   "source": [
    "# Approach 1 using if-else statement\n",
    "year = int(input(\"Enter a year: \"))\n",
    "\n",
    "# Check if it's a leap year\n",
    "if (year % 4 == 0 and year % 100 != 0) or (year % 400 == 0):\n",
    "    print(f\"{year} is a leap year.\")\n",
    "else:\n",
    "    print(f\"{year} is not a leap year.\")"
   ]
  },
  {
   "cell_type": "code",
   "execution_count": 41,
   "id": "b79849be-df33-42c7-b894-ee7eba002b7e",
   "metadata": {},
   "outputs": [
    {
     "name": "stdin",
     "output_type": "stream",
     "text": [
      "Enter a year:  2025\n"
     ]
    },
    {
     "name": "stdout",
     "output_type": "stream",
     "text": [
      "2025 is not a leap year\n"
     ]
    }
   ],
   "source": [
    "year = int(input(\"Enter a year: \"))\n",
    "\n",
    "if (year % 4 == 0 and year % 100 != 0) or (year % 400 == 0):\n",
    "    print(f\"{year} is a  leap year.\")\n",
    "else: \n",
    "    print(f\"{year} is not a leap year\")"
   ]
  },
  {
   "cell_type": "code",
   "execution_count": 43,
   "id": "3ad4d912-9092-4f51-b666-b22b8fa34c01",
   "metadata": {},
   "outputs": [
    {
     "name": "stdout",
     "output_type": "stream",
     "text": [
      "apple\n",
      "banana\n",
      "cherry\n"
     ]
    }
   ],
   "source": [
    "l = [\"apple\",\"banana\",\"cherry\"]\n",
    "for i in l:\n",
    "    print(i)"
   ]
  },
  {
   "cell_type": "code",
   "execution_count": 57,
   "id": "0d583ed3-a411-4f68-bcfc-1b1de0b5ee26",
   "metadata": {},
   "outputs": [
    {
     "name": "stdout",
     "output_type": "stream",
     "text": [
      "1 my\n",
      "2 name\n",
      "3 what\n"
     ]
    }
   ],
   "source": [
    "# d = dict()\n",
    "\n",
    "# d['key1'] = 'val1'\n",
    "# d['key2'] = '2334'\n",
    "\n",
    "# for i in d:\n",
    "#     print(i, d[i])\n",
    "\n",
    "dict = {\n",
    "    '1':'my',\n",
    "    '2':'name',\n",
    "    '3':'what'\n",
    "}\n",
    "\n",
    "for i in dict:\n",
    "    print(i, dict[i])"
   ]
  },
  {
   "cell_type": "code",
   "execution_count": 65,
   "id": "51ff5449-dfc7-4ee8-aba8-c049c950dd06",
   "metadata": {},
   "outputs": [
    {
     "name": "stdout",
     "output_type": "stream",
     "text": [
      "c\n",
      "o\n",
      "m\n",
      "p\n",
      "u\n",
      "t\n",
      "e\n",
      "r\n"
     ]
    }
   ],
   "source": [
    "word = \"computer\"\n",
    "for letter in word:\n",
    "    print(letter)\n",
    "    # print(word)"
   ]
  },
  {
   "cell_type": "code",
   "execution_count": 69,
   "id": "dc46337f-8df1-4033-a559-7ad6a0343549",
   "metadata": {},
   "outputs": [
    {
     "name": "stdout",
     "output_type": "stream",
     "text": [
      "0 1 2 3 4 "
     ]
    }
   ],
   "source": [
    "for i in range(5):\n",
    "    print(i, end=\" \")"
   ]
  },
  {
   "cell_type": "code",
   "execution_count": 73,
   "id": "6dcaadf2-4955-4e26-93d9-843957217dcf",
   "metadata": {},
   "outputs": [
    {
     "name": "stdout",
     "output_type": "stream",
     "text": [
      "(0,0)\n",
      "(0,1)\n",
      "(1,0)\n",
      "(1,1)\n",
      "(2,0)\n",
      "(2,1)\n"
     ]
    }
   ],
   "source": [
    "for i in range(3):\n",
    "    for j in range(2):\n",
    "        print(f\"({i},{j})\")"
   ]
  },
  {
   "cell_type": "code",
   "execution_count": 75,
   "id": "3a2d6d1a-4d56-4d8e-a6dc-fa5cb45cdf45",
   "metadata": {},
   "outputs": [
    {
     "name": "stdout",
     "output_type": "stream",
     "text": [
      "Index:0, Subject:English\n",
      "Index:1, Subject:GK\n",
      "Index:2, Subject:maths\n"
     ]
    }
   ],
   "source": [
    "list = [\"English\",\"GK\",\"maths\"]\n",
    "for index, subject in enumerate(list):\n",
    "    print(f\"Index:{index}, Subject:{subject}\")"
   ]
  },
  {
   "cell_type": "code",
   "execution_count": 77,
   "id": "1d2192fa-d163-465f-a237-ecd60b790720",
   "metadata": {},
   "outputs": [
    {
     "name": "stdout",
     "output_type": "stream",
     "text": [
      "[0, 1, 4, 9, 16]\n"
     ]
    }
   ],
   "source": [
    "squares = [x**2 for x in range(5)]\n",
    "print(squares)"
   ]
  },
  {
   "cell_type": "code",
   "execution_count": 79,
   "id": "29527e71-4732-4499-8f01-c8daf68ca353",
   "metadata": {},
   "outputs": [
    {
     "name": "stdin",
     "output_type": "stream",
     "text": [
      "Enter a number:  98790\n"
     ]
    },
    {
     "name": "stdout",
     "output_type": "stream",
     "text": [
      "98790 is not an Armstrong number.\n"
     ]
    }
   ],
   "source": [
    "def is_armstrong_number(number):\n",
    "    num_str = str(number)\n",
    "    num_digits = len(num_str)\n",
    "    sum_of_digits = sum(int(digit) ** num_digits for digit in num_str)\n",
    "    return sum_of_digits == number\n",
    "\n",
    "# User input\n",
    "num = int(input(\"Enter a number: \"))\n",
    "\n",
    "# Check and display the result\n",
    "if is_armstrong_number(num):\n",
    "    print(f\"{num} is an Armstrong number.\")\n",
    "else:\n",
    "    print(f\"{num} is not an Armstrong number.\")"
   ]
  },
  {
   "cell_type": "code",
   "execution_count": 90,
   "id": "ab3e2def-ba0d-4e54-87dc-ac63614f6aea",
   "metadata": {},
   "outputs": [
    {
     "name": "stdout",
     "output_type": "stream",
     "text": [
      "2 4 "
     ]
    }
   ],
   "source": [
    "counter = 2\n",
    "while counter <= 5:\n",
    "    print (counter, end=\" \")\n",
    "    counter += 2"
   ]
  },
  {
   "cell_type": "code",
   "execution_count": null,
   "id": "9b5a2ba6-cbb5-4ff0-8c37-cc8a2a81a190",
   "metadata": {},
   "outputs": [],
   "source": []
  }
 ],
 "metadata": {
  "kernelspec": {
   "display_name": "Python 3 (ipykernel)",
   "language": "python",
   "name": "python3"
  },
  "language_info": {
   "codemirror_mode": {
    "name": "ipython",
    "version": 3
   },
   "file_extension": ".py",
   "mimetype": "text/x-python",
   "name": "python",
   "nbconvert_exporter": "python",
   "pygments_lexer": "ipython3",
   "version": "3.11.7"
  }
 },
 "nbformat": 4,
 "nbformat_minor": 5
}

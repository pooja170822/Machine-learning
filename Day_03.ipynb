{
 "cells": [
  {
   "cell_type": "code",
   "execution_count": 1,
   "id": "52fb2298-e10e-438d-a046-9565dcf30048",
   "metadata": {},
   "outputs": [
    {
     "name": "stdout",
     "output_type": "stream",
     "text": [
      "3\n",
      "[8, 9, 0]--[23, 23, 34]--[453, 544, 239]--\n",
      "\n",
      "8,9,0,23,23,34,453,544,239,\n",
      "\n",
      "[[8, 9, 0], [23, 23, 34], [453, 544, 239], [2244, 4545, 2989, 3344]]\n",
      "[[8, 9, 0, 2, 4, 5], [23, 23, 34], [453, 544, 239], [2244, 4545, 2989, 3344]]\n",
      "[[5, 4, 2, 0, 9, 8], [23, 23, 34], [453, 544, 239], [2244, 4545, 2989, 3344]]\n"
     ]
    }
   ],
   "source": [
    "list = [[8,9,0],[23,23,34],[453,544,239]]\n",
    "print(len(list))\n",
    "for i in list:\n",
    "    print(i, end=\"--\")\n",
    "\n",
    "print('\\n')\n",
    "\n",
    "for i in range(len(list)):\n",
    "    for j in range(len(list[i])):\n",
    "        print(list[i][j], end=\",\")\n",
    "\n",
    "        \n",
    "print('\\n')\n",
    "\n",
    "list.append([2244,4545,2989,3344])\n",
    "print(list)\n",
    "\n",
    "list[0].extend([2,4,5])\n",
    "print(list)\n",
    "\n",
    "list[0].reverse()\n",
    "print(list)\n",
    "\n",
    "\n",
    "        \n",
    "\n"
   ]
  },
  {
   "cell_type": "code",
   "execution_count": null,
   "id": "b8c8d272-6742-438c-b60b-c3ed60b80fb5",
   "metadata": {},
   "outputs": [],
   "source": []
  },
  {
   "cell_type": "code",
   "execution_count": null,
   "id": "f2c536e3-2679-4aed-a88b-95a2dbf19fbc",
   "metadata": {},
   "outputs": [],
   "source": []
  }
 ],
 "metadata": {
  "kernelspec": {
   "display_name": "Python 3 (ipykernel)",
   "language": "python",
   "name": "python3"
  },
  "language_info": {
   "codemirror_mode": {
    "name": "ipython",
    "version": 3
   },
   "file_extension": ".py",
   "mimetype": "text/x-python",
   "name": "python",
   "nbconvert_exporter": "python",
   "pygments_lexer": "ipython3",
   "version": "3.11.7"
  }
 },
 "nbformat": 4,
 "nbformat_minor": 5
}

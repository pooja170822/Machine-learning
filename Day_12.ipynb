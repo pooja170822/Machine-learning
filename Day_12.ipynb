{
 "cells": [
  {
   "cell_type": "markdown",
   "id": "142f5c4b-fd42-4cd7-a0e1-361a1c37d5b0",
   "metadata": {},
   "source": [
    "## Product Details\n",
    "1. Product Id\n",
    "2. Name of the Product\n",
    "3. Price of Product\n",
    "4. Quantity"
   ]
  },
  {
   "cell_type": "code",
   "execution_count": 67,
   "id": "4591246a-ac29-4a84-8f6f-2feae498ff43",
   "metadata": {},
   "outputs": [
    {
     "name": "stdin",
     "output_type": "stream",
     "text": [
      "Enter your Name: hello\n",
      "Enter your Phone No: 218973892\n",
      "Enter your Mail: hello@gmail.com\n",
      "Enter the product id:  3\n",
      "Enter the product quantity:  3\n"
     ]
    },
    {
     "name": "stdout",
     "output_type": "stream",
     "text": [
      "---------------------------------------\n",
      "product name              :  Munch\n",
      "product price             :  10\n",
      "quantity                  :  3\n",
      "---------------------------------------\n",
      "billing amt               :  30\n",
      "---------------------------------------\n"
     ]
    },
    {
     "ename": "NameError",
     "evalue": "name 'sales_detail' is not defined",
     "output_type": "error",
     "traceback": [
      "\u001b[1;31m---------------------------------------------------------------------------\u001b[0m",
      "\u001b[1;31mNameError\u001b[0m                                 Traceback (most recent call last)",
      "Cell \u001b[1;32mIn[67], line 45\u001b[0m\n\u001b[0;32m     42\u001b[0m     fd \u001b[38;5;241m=\u001b[39m \u001b[38;5;28mopen\u001b[39m(\u001b[38;5;124m\"\u001b[39m\u001b[38;5;124mSales.txt\u001b[39m\u001b[38;5;124m\"\u001b[39m,\u001b[38;5;124m'\u001b[39m\u001b[38;5;124ma\u001b[39m\u001b[38;5;124m'\u001b[39m)\n\u001b[0;32m     43\u001b[0m     sales_details \u001b[38;5;241m=\u001b[39m ui_username \u001b[38;5;241m+\u001b[39m\u001b[38;5;124m'\u001b[39m\u001b[38;5;124m,\u001b[39m\u001b[38;5;124m'\u001b[39m\u001b[38;5;241m+\u001b[39m ui_phone \u001b[38;5;241m+\u001b[39m\u001b[38;5;124m'\u001b[39m\u001b[38;5;124m,\u001b[39m\u001b[38;5;124m'\u001b[39m\u001b[38;5;241m+\u001b[39m ui_mail \u001b[38;5;241m+\u001b[39m\u001b[38;5;124m'\u001b[39m\u001b[38;5;124m,\u001b[39m\u001b[38;5;124m'\u001b[39m\u001b[38;5;241m+\u001b[39m prod_details[\u001b[38;5;241m1\u001b[39m] \u001b[38;5;241m+\u001b[39m\u001b[38;5;124m'\u001b[39m\u001b[38;5;124m,\u001b[39m\u001b[38;5;124m'\u001b[39m\u001b[38;5;241m+\u001b[39m ui_prod_id \u001b[38;5;241m+\u001b[39m\u001b[38;5;124m'\u001b[39m\u001b[38;5;124m,\u001b[39m\u001b[38;5;124m'\u001b[39m\u001b[38;5;241m+\u001b[39m ui_prod_qn \u001b[38;5;241m+\u001b[39m\u001b[38;5;124m'\u001b[39m\u001b[38;5;124m,\u001b[39m\u001b[38;5;124m'\u001b[39m\u001b[38;5;241m+\u001b[39m \u001b[38;5;28mstr\u001b[39m(\u001b[38;5;28mint\u001b[39m(ui_prod_qn) \u001b[38;5;241m*\u001b[39m \u001b[38;5;28mint\u001b[39m(prod_details[\u001b[38;5;241m2\u001b[39m])) \u001b[38;5;241m+\u001b[39m\u001b[38;5;124m'\u001b[39m\u001b[38;5;124m,\u001b[39m\u001b[38;5;124m'\u001b[39m\u001b[38;5;241m+\u001b[39m time\u001b[38;5;241m.\u001b[39mctime() \u001b[38;5;241m+\u001b[39m \u001b[38;5;124m'\u001b[39m\u001b[38;5;130;01m\\n\u001b[39;00m\u001b[38;5;124m'\u001b[39m\n\u001b[1;32m---> 45\u001b[0m     fd\u001b[38;5;241m.\u001b[39mwrite(sales_detail)\n\u001b[0;32m     46\u001b[0m     fd\u001b[38;5;241m.\u001b[39mclose()\n\u001b[0;32m     51\u001b[0m \u001b[38;5;28;01melse\u001b[39;00m:\n\u001b[0;32m     52\u001b[0m     \u001b[38;5;66;03m# If we're not having enought quantity\u001b[39;00m\n",
      "\u001b[1;31mNameError\u001b[0m: name 'sales_detail' is not defined"
     ]
    }
   ],
   "source": [
    "import time\n",
    "\n",
    "\n",
    "# Reading the inventory\n",
    "fd = open('Inventory.txt','r')\n",
    "products = fd.read().split('\\n')\n",
    "fd.close()\n",
    "\n",
    "# Taking user input\n",
    "ui_username = input(\"Enter your Name:\")\n",
    "ui_phone    = input(\"Enter your Phone No:\")\n",
    "ui_mail     = input(\"Enter your Mail:\")\n",
    "ui_prod_id  = input(\"Enter the product id: \")\n",
    "ui_prod_qn  = input(\"Enter the product quantity: \")\n",
    "\n",
    "updated_product_lst = []\n",
    "\n",
    "# Going through each product detail\n",
    "for product in products:\n",
    "    \n",
    "    prod_details = product.split(',')\n",
    "    \n",
    "    if(int(prod_details[0]) == int(ui_prod_id)):\n",
    "        # Checking if product exits or not\n",
    "\n",
    "        if(int(ui_prod_qn) <= int(prod_details[3])):\n",
    "            # Checking if we're havin enough quantity\n",
    "\n",
    "            print('---------------------------------------')\n",
    "            print(\"product name              : \", prod_details[1])\n",
    "            print(\"product price             : \", prod_details[2])\n",
    "            print(\"quantity                  : \", ui_prod_qn)\n",
    "            print('---------------------------------------')\n",
    "            print(\"billing amt               : \", int(ui_prod_qn)  * int(prod_details[2]))\n",
    "            print('---------------------------------------')\n",
    "        \n",
    "        \n",
    "            # Updating Inventory List\n",
    "            prod_details[3] = str(int(prod_details[3]) - int(ui_prod_qn))\n",
    "\n",
    "            # Generating Sales in Sales.txt\n",
    "            fd = open(\"Sales.txt\",'a')\n",
    "            sales_details = ui_username +','+ ui_phone +','+ ui_mail +','+ prod_details[1] +','+ ui_prod_id +','+ ui_prod_qn +','+ str(int(ui_prod_qn) * int(prod_details[2])) +','+ time.ctime() + '\\n'\n",
    "        \n",
    "            fd.write(sales_detail)\n",
    "            fd.close()\n",
    "            \n",
    "\n",
    "        \n",
    "\n",
    "        else:\n",
    "            # If we're not having enought quantity\n",
    "            \n",
    "            print(\"Sorry, We're not having enough quantity\")\n",
    "            print(\"We're having only\", prod_details[3],'quantity.')\n",
    "            print(\"Would you like to purchase it?\")\n",
    "\n",
    "            ch = input(\"Press Y/N\")\n",
    "            \n",
    "            if(ch == 'Y' or ch == 'y'):\n",
    "                # If you want to purchase with remaining stock\n",
    "                \n",
    "                print('---------------------------------------')\n",
    "                print(\"product name              : \", prod_details[1])\n",
    "                print(\"product price             : \", prod_details[2])\n",
    "                print(\"quantity                  : \", prod_details[3])\n",
    "                print('---------------------------------------')\n",
    "                print(\"billing amt               : \", int(prod_details[3])  * int(prod_details[2]))\n",
    "                print('---------------------------------------')\n",
    "\n",
    "                # Updating Inventory List\n",
    "                prod_details[3] = '0'\n",
    "\n",
    "            else:\n",
    "                print(\"Thanks\")\n",
    "\n",
    "        # Updating my inventory list\n",
    "    updated_product_lst.append(prod_details)\n",
    "\n",
    "\n",
    "lst = []\n",
    "\n",
    "# Updating my inventory string\n",
    "for i in updated_product_lst:\n",
    "    prod = i[0] + ',' + i[1] + ',' + i[2] + ',' + i[3] + '\\n'\n",
    "    lst.append(prod)\n",
    "\n",
    "lst[-1] = lst[-1][:-1]\n",
    "\n",
    "# Updating inventory file\n",
    "fd = open('Inventory.txt','w')\n",
    "\n",
    "for i in lst:\n",
    "    fd.write(i)\n",
    "\n",
    "fd.close()\n",
    "\n",
    "print(\"------------------\")\n",
    "print(\"Inventory Updated\")"
   ]
  },
  {
   "cell_type": "code",
   "execution_count": 52,
   "id": "9f8bfc46-f6d3-45aa-9536-63e96b6a43b5",
   "metadata": {},
   "outputs": [],
   "source": [
    "\n"
   ]
  },
  {
   "cell_type": "code",
   "execution_count": null,
   "id": "39c537b8-dce1-42a8-b302-172870f04c02",
   "metadata": {},
   "outputs": [],
   "source": []
  },
  {
   "cell_type": "code",
   "execution_count": null,
   "id": "5e5f11ae-0426-4be9-a181-138ea947e1b0",
   "metadata": {},
   "outputs": [],
   "source": []
  }
 ],
 "metadata": {
  "kernelspec": {
   "display_name": "Python 3 (ipykernel)",
   "language": "python",
   "name": "python3"
  },
  "language_info": {
   "codemirror_mode": {
    "name": "ipython",
    "version": 3
   },
   "file_extension": ".py",
   "mimetype": "text/x-python",
   "name": "python",
   "nbconvert_exporter": "python",
   "pygments_lexer": "ipython3",
   "version": "3.11.7"
  }
 },
 "nbformat": 4,
 "nbformat_minor": 5
}

{
 "cells": [
  {
   "cell_type": "markdown",
   "id": "e1c96032-107f-42de-a1eb-ab9fe8c4b543",
   "metadata": {},
   "source": [
    "# Read data from text file"
   ]
  },
  {
   "cell_type": "code",
   "execution_count": 1,
   "id": "36e3a3e4-5db4-4f9a-9e30-be0b868ca414",
   "metadata": {},
   "outputs": [
    {
     "name": "stdout",
     "output_type": "stream",
     "text": [
      "Hello, I'm here \n"
     ]
    }
   ],
   "source": [
    "try:\n",
    "    fd = open('Data.txt', 'r')\n",
    "    text = fd.read()\n",
    "    print(text)\n",
    "    fd.close()\n",
    "except FileNotFoundError:\n",
    "    print(\"File not found\")\n"
   ]
  },
  {
   "cell_type": "code",
   "execution_count": null,
   "id": "099bafb6-be95-4352-acd0-9bafe2e7c907",
   "metadata": {},
   "outputs": [],
   "source": []
  }
 ],
 "metadata": {
  "kernelspec": {
   "display_name": "Python 3 (ipykernel)",
   "language": "python",
   "name": "python3"
  },
  "language_info": {
   "codemirror_mode": {
    "name": "ipython",
    "version": 3
   },
   "file_extension": ".py",
   "mimetype": "text/x-python",
   "name": "python",
   "nbconvert_exporter": "python",
   "pygments_lexer": "ipython3",
   "version": "3.11.7"
  }
 },
 "nbformat": 4,
 "nbformat_minor": 5
}

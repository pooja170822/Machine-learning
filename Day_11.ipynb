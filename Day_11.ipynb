{
 "cells": [
  {
   "cell_type": "code",
   "execution_count": null,
   "id": "3b8949dc-eb99-4fcb-9cc4-6f224e4af38a",
   "metadata": {},
   "outputs": [],
   "source": []
  },
  {
   "cell_type": "code",
   "execution_count": 70,
   "id": "2557ba43-73bd-4f58-9ff3-8e5e01b9854f",
   "metadata": {},
   "outputs": [
    {
     "name": "stdin",
     "output_type": "stream",
     "text": [
      "Enter the product id:  1\n",
      "Enter the product quantity:  1\n"
     ]
    },
    {
     "name": "stdout",
     "output_type": "stream",
     "text": [
      "-----------------------------\n",
      "Product Name     :  Choco\n",
      "Price            :  10\n",
      "Quantity         :  1\n",
      "-----------------------------\n",
      "Billing Amount   :  10\n",
      "-----------------------------\n",
      "-----------------------------\n",
      "Product Name     :  Choco\n",
      "Price            :  10\n",
      "Quantity         :  1\n",
      "-----------------------------\n",
      "Billing Amount   :  10\n",
      "-----------------------------\n"
     ]
    }
   ],
   "source": [
    "fd = open('Inventory.txt','r')\n",
    "products = fd.read().split('\\n')\n",
    "fd.close()\n",
    "\n",
    "\n",
    "ui_prod_id = input(\"Enter the product id: \")\n",
    "ui_prod_qn = input(\"Enter the product quantity: \")\n",
    "\n",
    "updated_product_lst = []\n",
    "\n",
    "\n",
    "for product in products:\n",
    "    prod_details = product.split(',') \n",
    "    \n",
    "    if prod_details[0] == ui_prod_id:  \n",
    "        print(\"-----------------------------\")\n",
    "        print(\"Product Name     : \", prod_details[1])\n",
    "        print(\"Price            : \", prod_details[2]) \n",
    "        print(\"Quantity         : \", ui_prod_qn) \n",
    "        print(\"-----------------------------\")\n",
    "        \n",
    "        # Calculate Billing Amount\n",
    "        billing_amount = int(ui_prod_qn) * int(prod_details[2])\n",
    "        print(\"Billing Amount   : \", billing_amount)\n",
    "        print(\"-----------------------------\")\n",
    "        \n",
    "        # Deduct the purchased quantity from inventory\n",
    "        prod_details[3] = str(int(prod_details[3]) - int(ui_prod_qn))\n",
    "    \n",
    "    updated_product_lst.append(prod_details)"
   ]
  },
  {
   "cell_type": "code",
   "execution_count": null,
   "id": "acac5af7-9c1f-43d5-8e65-480459559750",
   "metadata": {},
   "outputs": [],
   "source": [
    "\n"
   ]
  },
  {
   "cell_type": "code",
   "execution_count": null,
   "id": "69b3c26a-ee6b-413e-87d9-db784763b176",
   "metadata": {},
   "outputs": [],
   "source": []
  }
 ],
 "metadata": {
  "kernelspec": {
   "display_name": "Python 3 (ipykernel)",
   "language": "python",
   "name": "python3"
  },
  "language_info": {
   "codemirror_mode": {
    "name": "ipython",
    "version": 3
   },
   "file_extension": ".py",
   "mimetype": "text/x-python",
   "name": "python",
   "nbconvert_exporter": "python",
   "pygments_lexer": "ipython3",
   "version": "3.11.7"
  }
 },
 "nbformat": 4,
 "nbformat_minor": 5
}

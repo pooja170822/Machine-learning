{
 "cells": [
  {
   "cell_type": "code",
   "execution_count": 2,
   "id": "a3bf7a9f-aaf3-49cd-9d74-8e9fe8226d07",
   "metadata": {},
   "outputs": [],
   "source": [
    "record = {1001: {\"Name\" : \"5 star\"          ,\"Price\" : 10 , \"Qn\" : 200}, \n",
    "          1002: {\"Name\" : \"Bar-One\"         ,\"Price\" : 20 , \"Qn\" : 100}, \n",
    "          1003: {\"Name\" : \"Candy\"           ,\"Price\" : 2  , \"Qn\" : 1000}, \n",
    "          1004: {\"Name\" : \"Chocolate Cake\"  ,\"Price\" : 510, \"Qn\" : 8}, \n",
    "          1005: {\"Name\" : \"Blueberry Cake\"  ,\"Price\" : 610, \"Qn\" : 5}}"
   ]
  },
  {
   "cell_type": "code",
   "execution_count": 4,
   "id": "9dec6e45-f241-4547-bccc-27a357875aca",
   "metadata": {},
   "outputs": [
    {
     "data": {
      "text/plain": [
       "{1001: {'Name': '5 star', 'Price': 10, 'Qn': 200},\n",
       " 1002: {'Name': 'Bar-One', 'Price': 20, 'Qn': 100},\n",
       " 1003: {'Name': 'Candy', 'Price': 2, 'Qn': 1000},\n",
       " 1004: {'Name': 'Chocolate Cake', 'Price': 510, 'Qn': 8},\n",
       " 1005: {'Name': 'Blueberry Cake', 'Price': 610, 'Qn': 5}}"
      ]
     },
     "execution_count": 4,
     "metadata": {},
     "output_type": "execute_result"
    }
   ],
   "source": [
    "record #key-value pairs"
   ]
  },
  {
   "cell_type": "code",
   "execution_count": 6,
   "id": "2e937712-96e2-4bc2-8148-b279342355f4",
   "metadata": {},
   "outputs": [
    {
     "name": "stdout",
     "output_type": "stream",
     "text": [
      "5 star\n",
      "10\n",
      "200\n"
     ]
    }
   ],
   "source": [
    "print(record[1001][\"Name\"])\n",
    "print(record[1001][\"Price\"])\n",
    "print(record[1001][\"Qn\"])"
   ]
  },
  {
   "cell_type": "code",
   "execution_count": 8,
   "id": "a7bfacd6-129d-400e-8161-bc27f15842ee",
   "metadata": {},
   "outputs": [
    {
     "name": "stdout",
     "output_type": "stream",
     "text": [
      "Chocolate Cake\n",
      "510\n",
      "8\n"
     ]
    }
   ],
   "source": [
    "print(record[1004][\"Name\"])\n",
    "print(record[1004][\"Price\"])\n",
    "print(record[1004][\"Qn\"])"
   ]
  },
  {
   "cell_type": "markdown",
   "id": "42644815-614c-4367-b440-24391c999338",
   "metadata": {},
   "source": [
    "\n",
    " # Day 14\n"
   ]
  },
  {
   "cell_type": "code",
   "execution_count": 11,
   "id": "867b192f-63fe-4c11-a0ae-fe84c468594c",
   "metadata": {},
   "outputs": [
    {
     "name": "stdout",
     "output_type": "stream",
     "text": [
      "1001\n",
      "1002\n",
      "1003\n",
      "1004\n",
      "1005\n"
     ]
    }
   ],
   "source": [
    "for key in record.keys():\n",
    "    print(key)"
   ]
  },
  {
   "cell_type": "code",
   "execution_count": 13,
   "id": "4c2a3d36-191f-464c-8ac8-d31d40decdc9",
   "metadata": {},
   "outputs": [
    {
     "name": "stdout",
     "output_type": "stream",
     "text": [
      "{'Name': '5 star', 'Price': 10, 'Qn': 200}\n",
      "{'Name': 'Bar-One', 'Price': 20, 'Qn': 100}\n",
      "{'Name': 'Candy', 'Price': 2, 'Qn': 1000}\n",
      "{'Name': 'Chocolate Cake', 'Price': 510, 'Qn': 8}\n",
      "{'Name': 'Blueberry Cake', 'Price': 610, 'Qn': 5}\n"
     ]
    }
   ],
   "source": [
    "for key in record.keys():\n",
    "    print(record[key])"
   ]
  },
  {
   "cell_type": "code",
   "execution_count": 61,
   "id": "ed03506f-ffb5-456c-b751-2171595bd056",
   "metadata": {},
   "outputs": [
    {
     "name": "stdout",
     "output_type": "stream",
     "text": [
      "---------------MENU---------------\n",
      "\n",
      "1001 : 5 star | 10 | 200\n",
      "1002 : Bar-One | 20 | 100\n",
      "1003 : Candy | 2 | 1000\n",
      "1004 : Chocolate Cake | 510 | 8\n",
      "1005 : Blueberry Cake | 610 | 5\n",
      "-----------------------------------\n",
      "\n"
     ]
    },
    {
     "name": "stdin",
     "output_type": "stream",
     "text": [
      "Enter Product ID :  1002\n",
      "Enter Quantity   :  2\n"
     ]
    },
    {
     "name": "stdout",
     "output_type": "stream",
     "text": [
      "-----------------------------------\n",
      "              Bill               \n",
      " \n"
     ]
    },
    {
     "ename": "KeyError",
     "evalue": "1002",
     "output_type": "error",
     "traceback": [
      "\u001b[1;31m---------------------------------------------------------------------------\u001b[0m",
      "\u001b[1;31mKeyError\u001b[0m                                  Traceback (most recent call last)",
      "Cell \u001b[1;32mIn[61], line 23\u001b[0m\n\u001b[0;32m     20\u001b[0m \u001b[38;5;28mprint\u001b[39m(\u001b[38;5;124m\"\u001b[39m\u001b[38;5;124m-----------------------------------\u001b[39m\u001b[38;5;124m\"\u001b[39m)\n\u001b[0;32m     21\u001b[0m \u001b[38;5;28mprint\u001b[39m(\u001b[38;5;124m\"\u001b[39m\u001b[38;5;124m              Bill               \u001b[39m\u001b[38;5;130;01m\\n\u001b[39;00m\u001b[38;5;124m \u001b[39m\u001b[38;5;124m\"\u001b[39m)\n\u001b[1;32m---> 23\u001b[0m \u001b[38;5;28mprint\u001b[39m(\u001b[38;5;124m\"\u001b[39m\u001b[38;5;124mName           : \u001b[39m\u001b[38;5;124m\"\u001b[39m, record[ui_pr][\u001b[38;5;124m'\u001b[39m\u001b[38;5;124mName\u001b[39m\u001b[38;5;124m'\u001b[39m])\n\u001b[0;32m     24\u001b[0m \u001b[38;5;28mprint\u001b[39m(\u001b[38;5;124m\"\u001b[39m\u001b[38;5;124mPrice (Rs)     : \u001b[39m\u001b[38;5;124m\"\u001b[39m, record[ui_pr][\u001b[38;5;124m'\u001b[39m\u001b[38;5;124mPrice\u001b[39m\u001b[38;5;124m'\u001b[39m],\u001b[38;5;124m\"\u001b[39m\u001b[38;5;124mRs\u001b[39m\u001b[38;5;124m\"\u001b[39m)\n\u001b[0;32m     25\u001b[0m \u001b[38;5;28mprint\u001b[39m(\u001b[38;5;124m\"\u001b[39m\u001b[38;5;124mQuantity       : \u001b[39m\u001b[38;5;124m\"\u001b[39m, ui_qn)\n",
      "\u001b[1;31mKeyError\u001b[0m: 1002"
     ]
    }
   ],
   "source": [
    "import json\n",
    "\n",
    "record = {1001: {\"Name\" : \"5 star\"          ,\"Price\" : 10 , \"Qn\" : 200}, \n",
    "          1002: {\"Name\" : \"Bar-One\"         ,\"Price\" : 20 , \"Qn\" : 100}, \n",
    "          1003: {\"Name\" : \"Candy\"           ,\"Price\" : 2  , \"Qn\" : 1000}, \n",
    "          1004: {\"Name\" : \"Chocolate Cake\"  ,\"Price\" : 510, \"Qn\" : 8}, \n",
    "          1005: {\"Name\" : \"Blueberry Cake\"  ,\"Price\" : 610, \"Qn\" : 5}}\n",
    "\n",
    "print(\"---------------MENU---------------\\n\")\n",
    "\n",
    "\n",
    "for key in record.keys():\n",
    "    print(key,\":\", record[key]['Name'],\"|\", record[key]['Price'],\"|\", record[key]['Qn'] )\n",
    "\n",
    "print(\"-----------------------------------\\n\")\n",
    "\n",
    "ui_pr = int(input(\"Enter Product ID : \"))\n",
    "ui_qn = int(input(\"Enter Quantity   : \"))\n",
    "\n",
    "print(\"-----------------------------------\")\n",
    "print(\"              Bill               \\n \")\n",
    "\n",
    "print(\"Name           : \", record[ui_pr]['Name'])\n",
    "print(\"Price (Rs)     : \", record[ui_pr]['Price'],\"Rs\")\n",
    "print(\"Quantity       : \", ui_qn)\n",
    "\n",
    "print(\"-----------------------------------\\n\")\n",
    "print(\"Billing Amount : \", record[ui_pr]['Price'] * ui_qn,\"Rs\" )\n",
    "print(\"-----------------------------------\\n\")\n",
    "\n",
    "\n",
    "js = json.dumps(record)\n",
    "\n",
    "fd = open(\"Records.json\",'w')\n",
    "\n",
    "fd.write(js)\n",
    "fd.close()"
   ]
  },
  {
   "cell_type": "code",
   "execution_count": 63,
   "id": "ac408914-9c64-4a03-bd8d-627d3b436d60",
   "metadata": {},
   "outputs": [
    {
     "data": {
      "text/plain": [
       "{'1001': {'Name': '5 star', 'Price': 10, 'Qn': 200},\n",
       " '1002': {'Name': 'Bar-One', 'Price': 20, 'Qn': 100},\n",
       " '1003': {'Name': 'Candy', 'Price': 2, 'Qn': 1000},\n",
       " '1004': {'Name': 'Chocolate Cake', 'Price': 510, 'Qn': 8},\n",
       " '1005': {'Name': 'Blueberry Cake', 'Price': 610, 'Qn': 5}}"
      ]
     },
     "execution_count": 63,
     "metadata": {},
     "output_type": "execute_result"
    }
   ],
   "source": [
    "record # in integer format"
   ]
  },
  {
   "cell_type": "code",
   "execution_count": 65,
   "id": "58cde3bd-d797-49f6-b7b5-9b214cc89e24",
   "metadata": {},
   "outputs": [],
   "source": [
    "js = json.dumps(record) # in string format"
   ]
  },
  {
   "cell_type": "code",
   "execution_count": 67,
   "id": "8988c4d9-49de-4aa5-8cb7-664e2c78041e",
   "metadata": {},
   "outputs": [],
   "source": [
    "fd = open(\"Records.json\",'w')\n",
    "\n",
    "fd.write(js)\n",
    "fd.close()"
   ]
  },
  {
   "cell_type": "code",
   "execution_count": 69,
   "id": "977f565c-a869-4fbc-b264-07670197397d",
   "metadata": {},
   "outputs": [
    {
     "name": "stderr",
     "output_type": "stream",
     "text": [
      "'ls' is not recognized as an internal or external command,\n",
      "operable program or batch file.\n"
     ]
    }
   ],
   "source": [
    "!ls"
   ]
  },
  {
   "cell_type": "markdown",
   "id": "5bc64555-b42a-4444-914e-757f82a7b585",
   "metadata": {},
   "source": [
    "# Day 15"
   ]
  },
  {
   "cell_type": "code",
   "execution_count": 72,
   "id": "e71112e6-d8d9-4425-9207-cf6b0419d3e3",
   "metadata": {},
   "outputs": [
    {
     "data": {
      "text/plain": [
       "'{\"1001\": {\"Name\": \"5 star\", \"Price\": 10, \"Qn\": 200}, \"1002\": {\"Name\": \"Bar-One\", \"Price\": 20, \"Qn\": 100}, \"1003\": {\"Name\": \"Candy\", \"Price\": 2, \"Qn\": 1000}, \"1004\": {\"Name\": \"Chocolate Cake\", \"Price\": 510, \"Qn\": 8}, \"1005\": {\"Name\": \"Blueberry Cake\", \"Price\": 610, \"Qn\": 5}}'"
      ]
     },
     "execution_count": 72,
     "metadata": {},
     "output_type": "execute_result"
    }
   ],
   "source": [
    "js"
   ]
  },
  {
   "cell_type": "code",
   "execution_count": 74,
   "id": "1676a018-c9a4-43ba-abb1-a7cc64a14ec0",
   "metadata": {},
   "outputs": [],
   "source": [
    "fd = open('Records.json','r')\n",
    "js = fd.read()\n",
    "fd.close()"
   ]
  },
  {
   "cell_type": "code",
   "execution_count": 76,
   "id": "63bc3440-b27b-4acc-a91a-f78c682beeb4",
   "metadata": {},
   "outputs": [
    {
     "data": {
      "text/plain": [
       "{'1001': {'Name': '5 star', 'Price': 10, 'Qn': 200},\n",
       " '1002': {'Name': 'Bar-One', 'Price': 20, 'Qn': 100},\n",
       " '1003': {'Name': 'Candy', 'Price': 2, 'Qn': 1000},\n",
       " '1004': {'Name': 'Chocolate Cake', 'Price': 510, 'Qn': 8},\n",
       " '1005': {'Name': 'Blueberry Cake', 'Price': 610, 'Qn': 5}}"
      ]
     },
     "execution_count": 76,
     "metadata": {},
     "output_type": "execute_result"
    }
   ],
   "source": [
    "json.loads(js)"
   ]
  },
  {
   "cell_type": "code",
   "execution_count": 78,
   "id": "950c9a75-268f-4f9a-b82b-4af5f80c0120",
   "metadata": {},
   "outputs": [
    {
     "data": {
      "text/plain": [
       "'{\"1001\": {\"Name\": \"5 star\", \"Price\": 10, \"Qn\": 200}, \"1002\": {\"Name\": \"Bar-One\", \"Price\": 20, \"Qn\": 100}, \"1003\": {\"Name\": \"Candy\", \"Price\": 2, \"Qn\": 1000}, \"1004\": {\"Name\": \"Chocolate Cake\", \"Price\": 510, \"Qn\": 8}, \"1005\": {\"Name\": \"Blueberry Cake\", \"Price\": 610, \"Qn\": 5}}'"
      ]
     },
     "execution_count": 78,
     "metadata": {},
     "output_type": "execute_result"
    }
   ],
   "source": [
    "js"
   ]
  },
  {
   "cell_type": "code",
   "execution_count": 85,
   "id": "09136d64-996f-41d3-a4af-7046a796a96f",
   "metadata": {},
   "outputs": [
    {
     "name": "stdout",
     "output_type": "stream",
     "text": [
      "---------------MENU---------------\n",
      "\n",
      "1001 : 5 star | 10 | 200\n",
      "1002 : Bar-One | 20 | 100\n",
      "1003 : Candy | 2 | 1000\n",
      "1004 : Chocolate Cake | 510 | 8\n",
      "1005 : Blueberry Cake | 610 | 5\n",
      "-----------------------------------\n",
      "\n"
     ]
    },
    {
     "name": "stdin",
     "output_type": "stream",
     "text": [
      "Enter Product ID :  1001\n",
      "Enter Quantity   :  11\n"
     ]
    },
    {
     "name": "stdout",
     "output_type": "stream",
     "text": [
      "-----------------------------------\n",
      "              Bill               \n",
      " \n",
      "Name           :  5 star\n",
      "Price (Rs)     :  10 Rs\n",
      "Quantity       :  11\n",
      "-----------------------------------\n",
      "\n",
      "Billing Amount :  110 Rs\n",
      "-----------------------------------\n",
      "\n"
     ]
    }
   ],
   "source": [
    "import json\n",
    "\n",
    "fd = open('Records.json','r')\n",
    "js = fd.read()\n",
    "fd.close()\n",
    "\n",
    "record = json.loads(js)\n",
    "\n",
    "print(\"---------------MENU---------------\\n\")\n",
    "\n",
    "\n",
    "for key in record.keys():\n",
    "    print(key,\":\", record[key]['Name'],\"|\", record[key]['Price'],\"|\", record[key]['Qn'] )\n",
    "\n",
    "print(\"-----------------------------------\\n\")\n",
    "\n",
    "ui_pr = str(input(\"Enter Product ID : \"))\n",
    "ui_qn = int(input(\"Enter Quantity   : \"))\n",
    "\n",
    "record[ui_pr]['Qn'] = record[ui_pr]['Qn'] - ui_qn\n",
    "\n",
    "print(\"-----------------------------------\")\n",
    "print(\"              Bill               \\n \")\n",
    "\n",
    "print(\"Name           : \", record[ui_pr]['Name'])\n",
    "print(\"Price (Rs)     : \", record[ui_pr]['Price'],\"Rs\")\n",
    "print(\"Quantity       : \", ui_qn)\n",
    "\n",
    "print(\"-----------------------------------\\n\")\n",
    "print(\"Billing Amount : \", record[ui_pr]['Price'] * ui_qn,\"Rs\" )\n",
    "print(\"-----------------------------------\\n\")\n",
    "\n",
    "\n",
    "js = json.dumps(record)\n",
    "\n",
    "fd = open(\"Records.json\",'w')\n",
    "fd.write(js)\n",
    "fd.close()"
   ]
  },
  {
   "cell_type": "code",
   "execution_count": 100,
   "id": "6549b7ed-89c2-442e-a59d-c9048b6ee4bc",
   "metadata": {},
   "outputs": [
    {
     "data": {
      "text/plain": [
       "<module 'json' from 'C:\\\\Users\\\\pooja\\\\anaconda3\\\\Lib\\\\json\\\\__init__.py'>"
      ]
     },
     "execution_count": 100,
     "metadata": {},
     "output_type": "execute_result"
    }
   ],
   "source": [
    "json"
   ]
  },
  {
   "cell_type": "code",
   "execution_count": 102,
   "id": "7d30bf2c-4f4c-4f33-8827-b4b65260f473",
   "metadata": {},
   "outputs": [],
   "source": [
    "record = json.loads(js)"
   ]
  },
  {
   "cell_type": "code",
   "execution_count": 106,
   "id": "8269106f-ac87-41e4-929a-4b7ecc5a6a32",
   "metadata": {},
   "outputs": [
    {
     "data": {
      "text/plain": [
       "'5 star'"
      ]
     },
     "execution_count": 106,
     "metadata": {},
     "output_type": "execute_result"
    }
   ],
   "source": [
    "record['1001']['Name']"
   ]
  },
  {
   "cell_type": "code",
   "execution_count": null,
   "id": "23022472-7c91-4f04-b5ab-1974c527fdb3",
   "metadata": {},
   "outputs": [],
   "source": []
  }
 ],
 "metadata": {
  "kernelspec": {
   "display_name": "Python 3 (ipykernel)",
   "language": "python",
   "name": "python3"
  },
  "language_info": {
   "codemirror_mode": {
    "name": "ipython",
    "version": 3
   },
   "file_extension": ".py",
   "mimetype": "text/x-python",
   "name": "python",
   "nbconvert_exporter": "python",
   "pygments_lexer": "ipython3",
   "version": "3.11.7"
  }
 },
 "nbformat": 4,
 "nbformat_minor": 5
}

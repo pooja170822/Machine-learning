{
 "cells": [
  {
   "cell_type": "markdown",
   "id": "e921239d-887b-47b7-b0f6-b2c76009dcdc",
   "metadata": {},
   "source": [
    "# Inventory Management with Files - Updating Inventory\n"
   ]
  },
  {
   "cell_type": "code",
   "execution_count": null,
   "id": "eb3ec2f7-d67e-4421-9833-2a5aa4e5e524",
   "metadata": {},
   "outputs": [],
   "source": [
    "fd = open('Inventory.txt','r')\n",
    "\n",
    "products = fd.read().split('\\n')\n",
    "fd.close()\n",
    "\n",
    "products"
   ]
  },
  {
   "cell_type": "code",
   "execution_count": null,
   "id": "38bfb8bc-b355-49bf-9c4a-abe34d886c95",
   "metadata": {},
   "outputs": [],
   "source": [
    "for product in products:\n",
    "    print(product)"
   ]
  },
  {
   "cell_type": "code",
   "execution_count": null,
   "id": "2b77bb67-1d77-483c-a662-f82c32824fe8",
   "metadata": {},
   "outputs": [],
   "source": [
    "fd = open('Inventory.txt','r')\n",
    "products = fd.read().split('\\n')\n",
    "fd.close()\n",
    "\n",
    "\n",
    "ui_prod_id = input(\"Enter the product id: \")\n",
    "ui_prod_qn = input(\"Enter the product quantity: \")\n",
    "\n",
    "updated_prod_lst = []\n",
    "\n",
    "for product in products:\n",
    "    prod_details = product.split(',')\n",
    "    if(prod_details[0] == ui_prod_id):\n",
    "        print('---------------------------------------')\n",
    "        print(\"product name              : \", prod_details[1])\n",
    "        print(\"product price             : \", prod_details[2])\n",
    "        print('---------------------------------------')\n",
    "        print(\"billing amt               : \", int(ui_prod_qn)  * int(prod_details[2]))\n",
    "        print('---------------------------------------')\n",
    "\n",
    "        prod_details[3] = str(int(prod_details[3]) - int(ui_prod_qn))\n",
    "        \n",
    "    updated_prod_lst.append(prod_details)\n",
    "\n",
    "\n",
    "lst = []\n",
    "\n",
    "for i in updated_prod_lst:\n",
    "    prod = i[0] + ',' + i[1] + ',' + i[2] + ',' + i[3] + '\\n'\n",
    "    lst.append(prod)\n",
    "\n",
    "lst[-1] = lst[-1][:-1]\n",
    "\n",
    "fd = open('Inventory.txt','w')\n",
    "\n",
    "for i in lst:\n",
    "    fd.write(i)\n",
    "\n",
    "fd.close()\n"
   ]
  },
  {
   "cell_type": "code",
   "execution_count": null,
   "id": "9ad8cd84-79de-4d66-bddc-d1536639899b",
   "metadata": {},
   "outputs": [],
   "source": [
    "for i in products:\n",
    "    print(i)"
   ]
  },
  {
   "cell_type": "code",
   "execution_count": null,
   "id": "be8489d7-18e2-4110-8fd4-e783db78b69e",
   "metadata": {},
   "outputs": [],
   "source": [
    "for i in updated_prod_lst:\n",
    "    #for j in i:\n",
    "     #   print(j)\n",
    "    prod = i[0] + ',' + i[1] + ',' + i[2] + ',' + i[3]\n",
    "    print(prod)\n",
    "    \n"
   ]
  },
  {
   "cell_type": "code",
   "execution_count": null,
   "id": "3df94254-47a1-4bf7-8a57-00ecc7348f5d",
   "metadata": {},
   "outputs": [],
   "source": [
    "fd = open('Inventory.txt','w')\n",
    "\n",
    "for i in updated_prod_lst:\n",
    "    \n",
    "    prod = i[0] + ',' + i[1] + ',' + i[2] + ',' + i[3] + '\\n'\n",
    "    fd.write(prod)\n",
    "\n",
    "fd.close()"
   ]
  },
  {
   "cell_type": "code",
   "execution_count": null,
   "id": "af315daa-fc69-490d-bf0b-c6051c7193fa",
   "metadata": {},
   "outputs": [],
   "source": [
    " updated_prod_lst"
   ]
  },
  {
   "cell_type": "code",
   "execution_count": null,
   "id": "1da17ae2-de83-4aa0-8054-c5643401bfe2",
   "metadata": {},
   "outputs": [],
   "source": [
    "lst[-1][:-1]"
   ]
  },
  {
   "cell_type": "code",
   "execution_count": null,
   "id": "5c496979-cea4-414c-a2c6-36da699325d8",
   "metadata": {},
   "outputs": [],
   "source": [
    "lst = []\n",
    "\n",
    "for i in updated_prod_lst:\n",
    "    prod = i[0] +','+ i[1] +','+ i[2] +','+ i[3] + '\\n'\n",
    "    lst.append(prod)\n",
    "\n",
    "lst[-1] = lst[-1][:-1]"
   ]
  },
  {
   "cell_type": "code",
   "execution_count": null,
   "id": "2d14cf71-3e79-4680-9db6-6d62844dda4f",
   "metadata": {},
   "outputs": [],
   "source": [
    "lst"
   ]
  },
  {
   "cell_type": "code",
   "execution_count": null,
   "id": "64f34319-a500-4be9-9c83-45d9dc0b5a84",
   "metadata": {},
   "outputs": [],
   "source": [
    "lst = []\n",
    "\n",
    "for i in updated_prod_lst:\n",
    "    \n",
    "    prod = i[0] + ',' + i[1] + ',' + i[2] + ',' + i[3] + '\\n'\n",
    "    print(prod)"
   ]
  },
  {
   "cell_type": "code",
   "execution_count": null,
   "id": "65de7a09-9798-460b-bb30-47bd5015c497",
   "metadata": {},
   "outputs": [],
   "source": [
    "\n",
    "fd = open('Inventory.txt', 'r')\n",
    "\n",
    "# Read and split the inventory into products\n",
    "products = fd.read().split('\\n')\n",
    "\n",
    "fd.close()\n",
    "\n",
    "ui_prod_id = input(\"Enter product ID: \")\n",
    "ui_prod_qn = input(\"Enter product Quantity: \")\n",
    "\n",
    "updated_product_lst = []  # To store updated inventory\n",
    "\n",
    "for product in products:\n",
    "    prod_details = product.split(',') \n",
    "    \n",
    "    if prod_details[0] == ui_prod_id:  \n",
    "        print(\"-----------------------------\")\n",
    "        print(\"Product Name     : \", prod_details[1])\n",
    "        print(\"Price            : \", prod_details[2]) \n",
    "        print(\"Quantity         : \", ui_prod_qn) \n",
    "        print(\"-----------------------------\")\n",
    "        \n",
    "        # Calculate Billing Amount\n",
    "        billing_amount = int(ui_prod_qn) * int(prod_details[2])\n",
    "        print(\"Billing Amount   : \", billing_amount)\n",
    "        print(\"-----------------------------\")\n",
    "        \n",
    "        # Deduct the purchased quantity from inventory\n",
    "        prod_details[3] = str(int(prod_details[3]) - int(ui_prod_qn))\n",
    "    \n",
    "    updated_product_lst.append(prod_details)\n",
    "    "
   ]
  },
  {
   "cell_type": "code",
   "execution_count": null,
   "id": "1af512f9-d8e6-4c18-8f26-0b05bb79f44c",
   "metadata": {},
   "outputs": [],
   "source": [
    "updated_product_lst"
   ]
  },
  {
   "cell_type": "code",
   "execution_count": null,
   "id": "39298a65-737d-4593-b29d-857394e8fb74",
   "metadata": {},
   "outputs": [],
   "source": []
  },
  {
   "cell_type": "code",
   "execution_count": null,
   "id": "b2b7ef20-0cc3-4fd4-8f4e-2bab96a99943",
   "metadata": {},
   "outputs": [],
   "source": []
  },
  {
   "cell_type": "code",
   "execution_count": null,
   "id": "cadad6aa-2cda-47af-b96d-9b69cadfa1b6",
   "metadata": {},
   "outputs": [],
   "source": []
  }
 ],
 "metadata": {
  "kernelspec": {
   "display_name": "Python 3 (ipykernel)",
   "language": "python",
   "name": "python3"
  },
  "language_info": {
   "codemirror_mode": {
    "name": "ipython",
    "version": 3
   },
   "file_extension": ".py",
   "mimetype": "text/x-python",
   "name": "python",
   "nbconvert_exporter": "python",
   "pygments_lexer": "ipython3",
   "version": "3.11.7"
  }
 },
 "nbformat": 4,
 "nbformat_minor": 5
}

{
 "cells": [
  {
   "cell_type": "code",
   "execution_count": 117,
   "id": "43381087-454a-44f7-86a9-912fc1ee6aab",
   "metadata": {},
   "outputs": [
    {
     "name": "stdout",
     "output_type": "stream",
     "text": [
      "science-book and physics book is also important\n",
      "science book is important and physics book is also important\n",
      "<class 'str'>\n",
      "<class 'str'>\n",
      "<class 'int'>\n",
      "<class 'complex'>\n",
      "hello mike\n",
      "<class 'list'>\n",
      "[2, 5.6, 'hey', 78, 'gfg', 2]\n",
      "(3, 66.6, 'laptop', 'nice', (3+9j), 3)\n",
      "<class 'tuple'>\n",
      "<class 'bool'>\n",
      "True\n",
      "<class 'set'>\n",
      "{2, 'hello', 4.5, 'mouse', (4+6j)}\n",
      "{1: 'apple', 2: 'banana', 3: 'cherry', 4: 'cherry'}\n",
      "<class 'dict'>\n"
     ]
    }
   ],
   "source": [
    "a = 1.0;\n",
    "b = \"a\";\n",
    "c = -577;\n",
    "i = 2+3j;\n",
    "lst = [2, 5.6, \"hey\", 2+9j, 'gfg', 2];\n",
    "string = \"mike\";\n",
    "lst[3] = 78;\n",
    "tup = (3, 66.6, \"laptop\", 'nice', 3+9j, 3)\n",
    "set = {2, 4.5, \"mouse\", 'hello', 4+6j, 2};\n",
    "# tup[2] = \"pooja\";\n",
    "selected = True;\n",
    "dict = {\n",
    "    1: 'apple',\n",
    "    2: 'banana',\n",
    "    3: 'cherry',\n",
    "    4: 'cherry'\n",
    "}\n",
    "\n",
    "a = \"science book is important \";\n",
    "b = \" physics book is also important\";\n",
    "\n",
    "print (\"science\", \"book \", sep=\"-\", end=\"and\");\n",
    "print (b);\n",
    "print (a, end=\"and\");\n",
    "print (b);\n",
    "\n",
    "print (type(a));\n",
    "print (type(b));\n",
    "print (type(c));\n",
    "print (type(i));\n",
    "print (\"hello \" + string);\n",
    "print (type(list));\n",
    "print (lst);\n",
    "print (tup);\n",
    "print (type(tup));\n",
    "# print (tup[3]);\n",
    "print (type(selected));\n",
    "print (selected);\n",
    "print (type(set));\n",
    "print (set);\n",
    "print (dict)\n",
    "print (type(dict));\n",
    "\n",
    "\n",
    "\n",
    "\n",
    "\n"
   ]
  },
  {
   "cell_type": "code",
   "execution_count": 3,
   "id": "3b74ab2c-0a3f-4cf5-95f0-6d783f2415a7",
   "metadata": {},
   "outputs": [
    {
     "name": "stdout",
     "output_type": "stream",
     "text": [
      "False\n",
      "True\n",
      "-2\n",
      "12\n",
      "35\n",
      "0.7142857142857143\n",
      "5\n",
      "78125\n",
      "0\n",
      "False\n",
      "False\n",
      "True\n",
      "False\n",
      "True\n",
      "True\n",
      "False\n",
      "True\n",
      "14\n",
      "3\n"
     ]
    }
   ],
   "source": [
    "x = 5;\n",
    "y = 7;\n",
    "\n",
    "print (x>y)\n",
    "print (x<y)\n",
    "print (x-y)\n",
    "print (x+y)\n",
    "print (x*y)\n",
    "print (x/y)\n",
    "print (x%y)\n",
    "print (x**y)\n",
    "print (x//y)\n",
    "print (x==y)\n",
    "# ----------\n",
    "q = True;\n",
    "p = False;\n",
    "\n",
    "print (p and q);\n",
    "print (p or q);\n",
    "print (not q);\n",
    "print (not p);\n",
    "print (p ^ q);\n",
    "print (p & q);\n",
    "print (p | q);\n",
    "\n",
    "a = 7;\n",
    "\n",
    "this = a<<1\n",
    "print (this);\n",
    "\n",
    "that = a>>1;\n",
    "print (that);"
   ]
  },
  {
   "cell_type": "code",
   "execution_count": 168,
   "id": "45266593-9963-4158-ab3d-6ba2fdab18f6",
   "metadata": {},
   "outputs": [
    {
     "name": "stdout",
     "output_type": "stream",
     "text": [
      "9.9\n"
     ]
    }
   ],
   "source": [
    "int_no  = 4;\n",
    "dec_no  = 5.9;\n",
    "result = int_no + dec_no;\n",
    "print (result)\n",
    "\n",
    "# int_no  = 4;\n",
    "# str  = \"hey\";\n",
    "# result = int_no + str;\n",
    "# print (result)"
   ]
  },
  {
   "cell_type": "code",
   "execution_count": 198,
   "id": "1d382c5c-85fe-4353-b38b-b48540dace39",
   "metadata": {},
   "outputs": [
    {
     "name": "stdout",
     "output_type": "stream",
     "text": [
      "567.0\n",
      "<class 'float'>\n",
      "(3, 5.6, 'joy')\n",
      "<class 'list'>\n"
     ]
    }
   ],
   "source": [
    "int = 567;\n",
    "dec = float(int);\n",
    "print (dec);\n",
    "print (type(dec));\n",
    "\n",
    "lst = [3, 5.6, \"joy\"]\n",
    "\n",
    "tup = tuple(lst);\n",
    "\n",
    "print (tup);\n",
    "print(type(lst));\n",
    "\n",
    "# lst = [3, 5.6, \"joy\"];\n",
    "\n",
    "# set_data = set(lst);\n",
    "\n",
    "# print (set_data);\n",
    "# print (type(set_data));"
   ]
  },
  {
   "cell_type": "code",
   "execution_count": 297,
   "id": "c960b7a1-d4c7-444c-ba38-fa69e7e8bdc7",
   "metadata": {},
   "outputs": [
    {
     "name": "stdout",
     "output_type": "stream",
     "text": [
      "hello my name is Mickey\n",
      "Mickey is name my hello\n",
      "is name hello Mickey my\n",
      "Hello Mickey\n",
      "HelloHelloHelloHelloMickeyMickeyMickeyMickeyMickey\n",
      "5\n",
      "slicing of word Hello = llo\n",
      "slicing of word Mickey = ke\n",
      "upper_case = HELLO\n",
      "lower_case = mickey\n",
      "removed_whitespaces = My Love\n",
      "left_removed_whitespaces = My Love    \n",
      "right_removed_whitespaces =     My Love\n",
      "new_string =     My Life Partner    \n",
      "3\n",
      "3\n",
      "-1\n"
     ]
    }
   ],
   "source": [
    "str1 = \"Hello\";\n",
    "str2 = \"Mickey\";\n",
    "str3 = \"    My Love    \";\n",
    "str4 = \"My computer is damaged because of your computer computer\";\n",
    "\n",
    "# default order\n",
    "str5 = \"{} {} {} {} {}\".format(\"hello\", \"my\", \"name\", \"is\", \"Mickey\");\n",
    "print (str5);\n",
    "\n",
    "# positional order\n",
    "str5 = \"{4} {3} {2} {1} {0}\".format(\"hello\", \"my\", \"name\", \"is\", \"Mickey\"); \n",
    "print (str5);\n",
    "\n",
    "# keyword order\n",
    "str5 = \"{d} {c} {a} {e} {b}\".format(a=\"hello\", b=\"my\", c=\"name\", d=\"is\", e=\"Mickey\");\n",
    "print (str5);\n",
    "\n",
    "concatenate_str = str1 + \" \" + str2;\n",
    "print (concatenate_str);\n",
    "\n",
    "replicate_str = str1*4 + str2*5;\n",
    "print (replicate_str);\n",
    "\n",
    "length = len(str1);\n",
    "print (length);\n",
    "\n",
    "print (\"slicing of word Hello = \" + str1[2:5]);\n",
    "print (\"slicing of word Mickey = \" + str2[-3:-1]);\n",
    "\n",
    "print ('upper_case = ' + str1.upper())\n",
    "print ('lower_case = ' + str2.lower())\n",
    "\n",
    "print (\"removed_whitespaces = \" + str3.strip());\n",
    "print (\"left_removed_whitespaces = \" + str3.lstrip());\n",
    "print (\"right_removed_whitespaces = \" + str3.rstrip());\n",
    "\n",
    "print (\"new_string = \" + str3.replace('Love', 'Life Partner'));\n",
    "\n",
    "print (str4.count('computer'));\n",
    "\n",
    "print (str4.find(\"computer\"));\n",
    "print (str1.find('damage'));"
   ]
  },
  {
   "cell_type": "code",
   "execution_count": 12,
   "id": "a00fd839-15e9-4c0f-91b1-b5043501025d",
   "metadata": {},
   "outputs": [
    {
     "name": "stdout",
     "output_type": "stream",
     "text": [
      "greater\n",
      "outside if statement\n"
     ]
    }
   ],
   "source": [
    "x = 5;\n",
    "if x<6:\n",
    "    print (\"greater\");\n",
    "print(\"outside if statement\")\n"
   ]
  },
  {
   "cell_type": "code",
   "execution_count": 14,
   "id": "b1dc8d0a-c77d-47f7-8245-c3689175adea",
   "metadata": {},
   "outputs": [
    {
     "name": "stdout",
     "output_type": "stream",
     "text": [
      "allowed\n"
     ]
    }
   ],
   "source": [
    "i = 45;\n",
    "if i>=18:\n",
    "    print (\"allowed\")\n",
    "else:\n",
    "    print (\"not allowed\")"
   ]
  },
  {
   "cell_type": "code",
   "execution_count": null,
   "id": "3011711d-7d86-4c57-9f26-fb9f22ca85fd",
   "metadata": {},
   "outputs": [],
   "source": []
  },
  {
   "cell_type": "code",
   "execution_count": null,
   "id": "c5ef1dca-648b-4673-b156-bc9da2de5533",
   "metadata": {},
   "outputs": [],
   "source": []
  }
 ],
 "metadata": {
  "kernelspec": {
   "display_name": "Python 3 (ipykernel)",
   "language": "python",
   "name": "python3"
  },
  "language_info": {
   "codemirror_mode": {
    "name": "ipython",
    "version": 3
   },
   "file_extension": ".py",
   "mimetype": "text/x-python",
   "name": "python",
   "nbconvert_exporter": "python",
   "pygments_lexer": "ipython3",
   "version": "3.11.7"
  }
 },
 "nbformat": 4,
 "nbformat_minor": 5
}
